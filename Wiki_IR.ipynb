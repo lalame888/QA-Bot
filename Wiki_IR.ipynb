{
  "nbformat": 4,
  "nbformat_minor": 0,
  "metadata": {
    "colab": {
      "name": "Copy of IR_Final",
      "provenance": [],
      "collapsed_sections": [],
      "toc_visible": true
    },
    "kernelspec": {
      "name": "python3",
      "display_name": "Python 3"
    }
  },
  "cells": [
    {
      "cell_type": "markdown",
      "metadata": {
        "id": "15AEuFYGAEZt",
        "colab_type": "text"
      },
      "source": [
        "#前置作業"
      ]
    },
    {
      "cell_type": "code",
      "metadata": {
        "id": "JuAPQuksApJg",
        "colab_type": "code",
        "outputId": "66031cb2-19b4-4eff-9191-7bca988703f9",
        "colab": {
          "base_uri": "https://localhost:8080/",
          "height": 71
        }
      },
      "source": [
        "!free"
      ],
      "execution_count": 0,
      "outputs": [
        {
          "output_type": "stream",
          "text": [
            "              total        used        free      shared  buff/cache   available\n",
            "Mem:       13335188      533356    10858920         848     1942912    12519272\n",
            "Swap:             0           0           0\n"
          ],
          "name": "stdout"
        }
      ]
    },
    {
      "cell_type": "code",
      "metadata": {
        "id": "c99EvWo1s9-x",
        "colab_type": "code",
        "outputId": "edc6fb5b-d5ec-4261-dd6b-6df70edf7b86",
        "colab": {
          "base_uri": "https://localhost:8080/",
          "height": 127
        }
      },
      "source": [
        "from google.colab import drive\n",
        "drive.mount('/content/drive', force_remount=True)"
      ],
      "execution_count": 0,
      "outputs": [
        {
          "output_type": "stream",
          "text": [
            "Go to this URL in a browser: https://accounts.google.com/o/oauth2/auth?client_id=947318989803-6bn6qk8qdgf4n4g3pfee6491hc0brc4i.apps.googleusercontent.com&redirect_uri=urn%3aietf%3awg%3aoauth%3a2.0%3aoob&response_type=code&scope=email%20https%3a%2f%2fwww.googleapis.com%2fauth%2fdocs.test%20https%3a%2f%2fwww.googleapis.com%2fauth%2fdrive%20https%3a%2f%2fwww.googleapis.com%2fauth%2fdrive.photos.readonly%20https%3a%2f%2fwww.googleapis.com%2fauth%2fpeopleapi.readonly\n",
            "\n",
            "Enter your authorization code:\n",
            "··········\n",
            "Mounted at /content/drive\n"
          ],
          "name": "stdout"
        }
      ]
    },
    {
      "cell_type": "code",
      "metadata": {
        "id": "k59Q6gqKR5fP",
        "colab_type": "code",
        "outputId": "382fda82-910d-45b2-cc39-2b3336ceefa4",
        "colab": {
          "base_uri": "https://localhost:8080/",
          "height": 127
        }
      },
      "source": [
        "!pip install ijson"
      ],
      "execution_count": 0,
      "outputs": [
        {
          "output_type": "stream",
          "text": [
            "Collecting ijson\n",
            "\u001b[?25l  Downloading https://files.pythonhosted.org/packages/9a/49/1f60e045f0d5b0087906e9b1dbd592714bc50dea2f7163e25047756f9a1c/ijson-2.5.1-cp36-cp36m-manylinux1_x86_64.whl (61kB)\n",
            "\r\u001b[K     |█████▍                          | 10kB 18.7MB/s eta 0:00:01\r\u001b[K     |██████████▊                     | 20kB 2.1MB/s eta 0:00:01\r\u001b[K     |████████████████                | 30kB 2.8MB/s eta 0:00:01\r\u001b[K     |█████████████████████▍          | 40kB 2.0MB/s eta 0:00:01\r\u001b[K     |██████████████████████████▉     | 51kB 2.4MB/s eta 0:00:01\r\u001b[K     |████████████████████████████████| 61kB 2.1MB/s \n",
            "\u001b[?25hInstalling collected packages: ijson\n",
            "Successfully installed ijson-2.5.1\n"
          ],
          "name": "stdout"
        }
      ]
    },
    {
      "cell_type": "code",
      "metadata": {
        "id": "RYwJSkw-c8tK",
        "colab_type": "code",
        "colab": {}
      },
      "source": [
        "import json\n",
        "import math"
      ],
      "execution_count": 0,
      "outputs": []
    },
    {
      "cell_type": "markdown",
      "metadata": {
        "id": "5LqtXwd-ktlo",
        "colab_type": "text"
      },
      "source": [
        "###tf-idf"
      ]
    },
    {
      "cell_type": "code",
      "metadata": {
        "id": "l6gXKfTec8qq",
        "colab_type": "code",
        "colab": {}
      },
      "source": [
        "class Wiki(dict):\n",
        "    def __init__(self):\n",
        "        super(Wiki, self).__init__()\n",
        "    def __getitem__(self, key):\n",
        "        if key in self:\n",
        "            return super(Wiki, self).__getitem__(key)\n",
        "        return ReverseIndex(key, [])\n",
        "class ReverseIndex(object):\n",
        "    def __init__(self, key, indexes):\n",
        "        super(ReverseIndex, self).__init__()\n",
        "        self.key = key\n",
        "        self.indexes = indexes\n",
        "    def __len__(self):\n",
        "        return len(self.indexes)\n",
        "    def __getitem__(self, key):\n",
        "        return self.indexes[key]\n",
        "    def __iter__(self):\n",
        "        return iter(self.indexes)\n",
        "    def __and__(self, rev_ind):\n",
        "        return set(self.indexes).intersection(set(rev_ind.indexes))\n",
        "def tf(term, doc):\n",
        "    \"\"\"calculate term frequency\n",
        "    \n",
        "    Arguments:\n",
        "        term {str} -- keyword to be evaluate\n",
        "        doc {list} -- list of words splited from source document\n",
        "    \n",
        "    Returns:\n",
        "        int -- times that term appears in doc\n",
        "    \"\"\"\n",
        "    return doc.count(term)\n",
        "def df(term, docs):\n",
        "    \"\"\"calculate document frequency from a series of documents\n",
        "    \n",
        "    This is a modified version which use df directly from wiki reverse index.\n",
        "    For normal version, invert the comment\n",
        "    \n",
        "    Arguments:\n",
        "        term {str} -- keyword to be evaluate\n",
        "        docs {list} -- list doc defined by list of words splited from source document\n",
        "    \n",
        "    Returns:\n",
        "        int -- times that term appears in docs\n",
        "    \"\"\"\n",
        "    # count = 0\n",
        "    # for doc in docs:\n",
        "    #     count += doc.count(term)\n",
        "    try:\n",
        "      d=len(docs[term])\n",
        "    except:\n",
        "      d=0\n",
        "    return d\n",
        "def idf(df, docs_len):\n",
        "    \"\"\"convert document frequency into inverse document frequency\n",
        "    \n",
        "    Arguments:\n",
        "        df {int} -- document frequency\n",
        "        docs_len {int} -- total number of docs\n",
        "    \n",
        "    Returns:\n",
        "        float -- inverse document frequency\n",
        "    \"\"\"\n",
        "    return math.log10(docs_len/df)\n",
        "def tf_idf(term, doc, docs):\n",
        "    \"\"\"Define how important a term is in a document\n",
        "    \n",
        "    higher the value, term is more important to the doc.\n",
        "    An important term should be:\n",
        "        * Appears in few docs\n",
        "        * Appears many times in doc\n",
        "    \n",
        "    Arguments:\n",
        "        term {str} -- keyword to be evaluate\n",
        "        doc {list} -- document that keyword are to be rated, in this cse: question\n",
        "        docs {list} -- all documents, as an idf reference, in this case: WIKI\n",
        "    \n",
        "    Returns:\n",
        "        float -- tf-idf value\n",
        "    \"\"\"\n",
        "    term_tf = tf(term, doc)\n",
        "    term_df = df(term, docs)\n",
        "    if term_df > 0:\n",
        "        term_idf = idf(term_df, len(docs))\n",
        "        return (1 + math.log(term_tf)) * term_idf\n",
        "    return 0"
      ],
      "execution_count": 0,
      "outputs": []
    },
    {
      "cell_type": "markdown",
      "metadata": {
        "id": "9ZFGWZqfs011",
        "colab_type": "text"
      },
      "source": [
        "## 把Wiki_inverse_index 放到自己的google drive \n",
        "https://drive.google.com/open?id=1vIlw51dGxrtT8V4ZKweXS4nXKNaxlxDV\n"
      ]
    },
    {
      "cell_type": "code",
      "metadata": {
        "id": "ykWFvJ3ZdCEP",
        "colab_type": "code",
        "outputId": "d0b56abd-269c-4799-d5b9-9ace894db08c",
        "colab": {
          "base_uri": "https://localhost:8080/",
          "height": 35
        }
      },
      "source": [
        "WIKI = {}\n",
        "with open(\"/content/drive/My Drive/Wiki_inverse_index\") as file:\n",
        "    lines = file.readlines()\n",
        "    for line in lines:\n",
        "        indexes = line.split()\n",
        "        key = indexes.pop(0)\n",
        "        indexes = list(map(int, indexes))\n",
        "        WIKI[key] = ReverseIndex(key, indexes)\n",
        "        # Use Pure List as value\n",
        "        # WIKI[key] = indexes\n",
        "print(\"{} Keywords loaded\".format(len(WIKI)))"
      ],
      "execution_count": 0,
      "outputs": [
        {
          "output_type": "stream",
          "text": [
            "2404293 Keywords loaded\n"
          ],
          "name": "stdout"
        }
      ]
    },
    {
      "cell_type": "markdown",
      "metadata": {
        "id": "jZksKYh804Qq",
        "colab_type": "text"
      },
      "source": [
        "##把老師給的題目下載下來"
      ]
    },
    {
      "cell_type": "code",
      "metadata": {
        "id": "2AUMh-vulVIR",
        "colab_type": "code",
        "outputId": "44b7b540-750d-43e8-9d57-50f4b4d3fb24",
        "colab": {
          "base_uri": "https://localhost:8080/",
          "height": 397
        }
      },
      "source": [
        "!wget -O Final_Questions.json https://www.dropbox.com/s/kq678nfffzta5zg/20_Questions.json?dl=0"
      ],
      "execution_count": 0,
      "outputs": [
        {
          "output_type": "stream",
          "text": [
            "--2020-01-06 06:23:22--  https://www.dropbox.com/s/kq678nfffzta5zg/20_Questions.json?dl=0\n",
            "Resolving www.dropbox.com (www.dropbox.com)... 162.125.3.1, 2620:100:6018:1::a27d:301\n",
            "Connecting to www.dropbox.com (www.dropbox.com)|162.125.3.1|:443... connected.\n",
            "HTTP request sent, awaiting response... 301 Moved Permanently\n",
            "Location: /s/raw/kq678nfffzta5zg/20_Questions.json [following]\n",
            "--2020-01-06 06:23:22--  https://www.dropbox.com/s/raw/kq678nfffzta5zg/20_Questions.json\n",
            "Reusing existing connection to www.dropbox.com:443.\n",
            "HTTP request sent, awaiting response... 302 Found\n",
            "Location: https://ucf9fee9219b4f7d35704935863f.dl.dropboxusercontent.com/cd/0/inline/AvqvMVkW8LMze_59_dfe2QEQ9j1GneEkCgpZVbagDm7GombcdIZDsYIldnfMbOBlW7B9tZAx2icG7lQ5n-qSTeSAhr0w0ke62BbZDeztGvmK45UTdW2p6KpSunETKqKVry4/file# [following]\n",
            "--2020-01-06 06:23:22--  https://ucf9fee9219b4f7d35704935863f.dl.dropboxusercontent.com/cd/0/inline/AvqvMVkW8LMze_59_dfe2QEQ9j1GneEkCgpZVbagDm7GombcdIZDsYIldnfMbOBlW7B9tZAx2icG7lQ5n-qSTeSAhr0w0ke62BbZDeztGvmK45UTdW2p6KpSunETKqKVry4/file\n",
            "Resolving ucf9fee9219b4f7d35704935863f.dl.dropboxusercontent.com (ucf9fee9219b4f7d35704935863f.dl.dropboxusercontent.com)... 162.125.8.6, 2620:100:601b:6::a27d:806\n",
            "Connecting to ucf9fee9219b4f7d35704935863f.dl.dropboxusercontent.com (ucf9fee9219b4f7d35704935863f.dl.dropboxusercontent.com)|162.125.8.6|:443... connected.\n",
            "HTTP request sent, awaiting response... 200 OK\n",
            "Length: 32354 (32K) [text/plain]\n",
            "Saving to: ‘Final_Questions.json’\n",
            "\n",
            "Final_Questions.jso 100%[===================>]  31.60K  --.-KB/s    in 0.02s   \n",
            "\n",
            "2020-01-06 06:23:23 (2.04 MB/s) - ‘Final_Questions.json’ saved [32354/32354]\n",
            "\n"
          ],
          "name": "stdout"
        }
      ]
    },
    {
      "cell_type": "code",
      "metadata": {
        "id": "8Z5K1WOXlU_h",
        "colab_type": "code",
        "outputId": "f9cbf91e-2d5a-4cb2-b291-50ee7bb007f1",
        "colab": {
          "base_uri": "https://localhost:8080/",
          "height": 35
        }
      },
      "source": [
        "!ls"
      ],
      "execution_count": 0,
      "outputs": [
        {
          "output_type": "stream",
          "text": [
            "drive  Final_Questions.json  sample_data\n"
          ],
          "name": "stdout"
        }
      ]
    },
    {
      "cell_type": "markdown",
      "metadata": {
        "id": "Obmw5c0s1A8z",
        "colab_type": "text"
      },
      "source": [
        "確認有抓到"
      ]
    },
    {
      "cell_type": "code",
      "metadata": {
        "id": "9-6DgSOhmFZe",
        "colab_type": "code",
        "outputId": "7a3d2b46-bdcc-428f-9d96-4dec6042bcee",
        "colab": {
          "base_uri": "https://localhost:8080/",
          "height": 1000
        }
      },
      "source": [
        "\n",
        "import ijson\n",
        "f = open(\"Final_Questions.json\",\"r\",encoding='UTF-8')\n",
        "objects = ijson.items(f, 'item')\n",
        "i=1\n",
        "\n",
        "for article in list(objects)[0:100]:\n",
        "  print(i,\".\",article[\"Question\"]),\n",
        "  print(\"A\",article[\"A\"]),\n",
        "  print(\"B\",article[\"B\"]),\n",
        "  print(\"C\",article[\"C\"])\n",
        "  i=i+1\n"
      ],
      "execution_count": 0,
      "outputs": [
        {
          "output_type": "stream",
          "text": [
            "1 . 什麼事件是指日本嘉永六年（1853年）美國海軍准將馬修·培理率艦隊駛入江戶灣浦賀海面的事件，培理帶著美國總統米勒德·菲爾莫爾的國書向江戶幕府致意，最後雙方於次年（1854年）簽定《神奈川條約》（《日美和親條約》）。\n",
            "A 竹橋事件\n",
            "B 黑船來航\n",
            "C 巨文島事件\n",
            "2 . 《Fate/stay night》是由哪家公司於2004年1月30日發售的PC平台十八禁文字冒險遊戲? 也是該家公司商業化後初次亮相的作品。\n",
            "A 任天堂\n",
            "B 奈須蘑菇\n",
            "C TYPE-MOON\n",
            "3 . 任天堂的王牌遊戲設計師是? 曾任任天堂的情報開發本部（Entertainment Analysis and Development）總監兼總經理，在岩田聰於2015年7月11日逝世後與竹田玄洋一同代理任天堂高層事務，被稱為「瑪利歐之父」，主導開發了瑪利歐系列（Mario）、大金剛系列（Donkey Kong）、薩爾達傳說系列（The Legend of Zelda）、銀河戰士系列（Metroid）等一系列任天堂本家鐵板經典遊戲。\n",
            "A 宮本茂\n",
            "B 岩田聰\n",
            "C 三上真司\n",
            "4 . 四季為春天，夏天，冬天。還有一個是?\n",
            "A 秋天\n",
            "B 陰天\n",
            "C 雨天\n",
            "5 . 什麼是地球唯一的天然衛星，並且是太陽系中第五大的衛星?\n",
            "A 月球\n",
            "B 木星\n",
            "C 土星\n",
            "6 . 紐約洋基(New York Yankees)，是一支位於紐約布朗克斯區的職業棒球隊。隸屬於美國職棒大聯盟美國聯盟的哪一區?\n",
            "A 東區\n",
            "B 中區\n",
            "C 西區\n",
            "7 . 哪一位皇帝是中國歷史上在位時間最長的皇帝?\n",
            "A 乾隆\n",
            "B 明太祖朱元璋\n",
            "C 康熙帝\n",
            "8 . 下列哪個是元素週期表中最輕的元素?\n",
            "A 碳\n",
            "B 氦\n",
            "C 氫\n",
            "9 .  什麼宗教是當今世上信仰人口最多的宗教?\n",
            "A 伊斯蘭教\n",
            "B 基督教\n",
            "C 道教\n",
            "10 . 哪位日本有名的電子遊戲的製作人、遊戲設計師和遊戲監督? 在山口縣岩國市出生，代表的電視遊戲作品是 ps 1的惡靈古堡，被外界稱為「惡靈古堡之父」和「恐怖遊戲之父」。\n",
            "A 神谷英樹\n",
            "B 小林裕幸\n",
            "C 三上真司\n",
            "11 . 什麼戰爭（德國方面稱為東方戰線，德語：die Ostfront；蘇聯方面稱為偉大的衛國戰爭，俄語：Великая Отечественная Война，而「衛國戰爭」本指1812年的俄法戰爭）是第二次世界大戰期間蘇聯與納粹德國及雙方盟國之間發生的戰爭? 時間從1941年6月22日德國開始進攻蘇聯、至1945年5月9日德國向蘇聯投降為止。\n",
            "A 地中海戰役\n",
            "B 蘇德戰爭\n",
            "C 冬季戰爭\n",
            "12 . 下列哪一個是這個世界上唯一猶太國家?\n",
            "A 黎巴嫩\n",
            "B 以色列\n",
            "C 敘利亞\n",
            "13 . 哪部是福井晴敏撰寫的鋼彈小說系列作品，於雜誌《鋼彈 ACE》2007年2月號至2009年8月號上連載。2009年4月25日，官方宣布本作品動畫化，改編動畫以全7話OVA形式於2010年2月20日至2014年5月17日在世界多國同步播放，並推出多語言BD&DVD。\n",
            "A 緋彈的亞莉亞\n",
            "B 機動戰士鋼彈UC\n",
            "C 機動戰士鋼彈 閃光的哈薩威\n",
            "14 . 哪位政治人物為中華民國（臺灣）政治人物，現任新北市長。嘉義縣朴子市人，曾任內政部警政署署長、中央警察大學校長、新北市副市長，也是中華民國史上任職內政部警政署署長時最年輕者。於2018年新北市長選舉中，以29萬票差距贏過民進黨提名的蘇貞昌，當選第3任新北市長\n",
            "A 衝衝衝\n",
            "B 侯友宜\n",
            "C 蘇貞昌\n",
            "15 . 哪者是源自日本的跨國汽車公司，總部位於日本愛知縣豐田市，現時爲世界銷量排名第一的汽車製造商，利潤也名列前茅；名列美國《財富》雜誌2017年全球五百大企業排行榜的第5位。截至2012年，共售973萬輛車，2013年度共售1013.3萬輛汽車，2014年共售1023萬輛汽車，是第一個達到年產量千萬台以上的車廠。亦是凌志、大發及日野品牌的母公司。\n",
            "A 豐田汽車\n",
            "B 本田技研工業\n",
            "C 日產汽車\n",
            "16 . 哪者是一種從1990年代開始逐漸引起廣泛關注的一些新型軟體開發方法，是一種應對快速變化的需求的一種軟體開發能力。它們的具體名稱、理念、過程、術語都不盡相同，更強調程式設計師團隊與業務專家之間的緊密共同作業、面對面的溝通（認為比書面的文件更有效）、頻繁交付新的軟體版本、緊湊而自我組織型的團隊、能夠很好地適應需求變化的程式碼編寫和團隊組織方法，也更注重軟體開發過程中人的作用。\n",
            "A 快速應用程式開發\n",
            "B 疊代式開發\n",
            "C 敏捷軟體開發\n",
            "17 . 下列何者稱呼也是代表孔子?\n",
            "A 仲尼\n",
            "B 孟子\n",
            "C 孔鯉\n",
            "18 . 什麼是目前世界上最高水準的職業棒球賽事?\n",
            "A 美國職業棒球大聯盟\n",
            "B 日本棒球機構\n",
            "C 中華職業棒球大聯盟\n",
            "19 . 下列何者是蘇格蘭國家代表動物?\n",
            "A 獨角獸\n",
            "B 尼斯湖水怪\n",
            "C 蘇格蘭裙\n",
            "20 . 哪者是一種電腦程式，它會將用某種程式語言寫成的原始碼（原始語言），轉換成另一種程式語言（目標語言），它主要的目的是將便於人編寫、閱讀、維護的進階電腦語言所寫作的原始碼程式，翻譯為電腦能解讀、執行的低階機器語言的程式，也就是執行檔。將原始程式（source program）作為輸入，翻譯產生使用目標語言（target language）的等價程式。原始碼一般為高階語言（High-level language），如Pascal、C、C++、C# 、Java等，而目標語言則是組合語言或目標機器的目的碼（Object code），有時也稱作機器碼（Machine code）。\n",
            "A 編譯器\n",
            "B 直譯器\n",
            "C 連結器\n",
            "21 . 哪款是卡普空於2001年8月23日發行的一款動作遊戲? 遊戲中充滿了黑暗的哥德式背景，混合了重金屬音樂、工業音樂和音調優美的氛圍電子樂做成鮮明對比。主角但丁喜歡嘲諷敵人，有著一半惡魔和一半人類血統的惡魔獵人，其父名為斯巴達，為魔界貴族。\n",
            "A 戰國BASARA\n",
            "B 惡魔獵人\n",
            "C 惡靈古堡2\n",
            "22 . 下列何者是梵谷的作品之一?\n",
            "A 印象派畫家\n",
            "B 向日葵\n",
            "C 地板\n",
            "23 . 是一次自1939年至1945年所爆發的全球軍事衝突，整場戰爭涉及到全球絕大多數的國家，包括所有的大國，並最終分成兩個彼此對立的軍事同盟─同盟國和軸心國。這次戰爭是人類史上最大的戰爭，動員1億多名軍人參與這次軍事衝突。此為?。\n",
            "A 第一次世界大戰\n",
            "B 第二次世界大戰\n",
            "C 伊拉克戰爭\n",
            "24 . 是日本漫畫家尾田榮一郎所創作的少年漫畫《ONE PIECE》中的虛構角色，主角魯夫的第一位夥伴，草帽海賊團的戰鬥員。立志成為世界最強的劍士，以三刀流戰鬥風格聞名，團員中第二號人物。\n",
            "A 漩渦鳴人\n",
            "B 騙人布\n",
            "C 羅羅亞·索隆\n",
            "25 . 下列何種不是俠盜獵車手V的三個主要角色之一?\n",
            "A 麥可·迪聖塔\n",
            "B 崔佛·菲利普\n",
            "C 馬丁·瑪德拉索\n",
            "26 . 是臺灣職業棒球運動員，位置為投手。曾效力於美國職棒大聯盟，是台灣投手在美國職棒中累計勝投最高者。請問他是?\n",
            "A 王建民\n",
            "B 郭泓志\n",
            "C 陳金鋒\n",
            "27 . 下列何者含有大量維他命C，維生素B6，能提高蛋白質的代謝能力，促進身體的組織和皮膚再生，並且有助於女性荷爾蒙分泌正常？\n",
            "A 樹皮\n",
            "B 奇異果\n",
            "C 木瓜\n",
            "28 . 哪部是日本作家支倉凍砂所著的輕小說、由文倉十負責繪製插畫，於電擊文庫出版，小說於2016年2月8日公布連載續編的訊息。漫畫版由小梅京人執筆，於「電擊魔王」2007年11月號開始連載，於「電擊魔王」2018年2月號結束連載,單行本共16本。同名改編電視動畫於2008年1月8日至3月25日和2009年7月8日至9月23日分別播出第一季和第二季。\n",
            "A 夢沉抹大拉\n",
            "B 我的妹妹哪有這麼可愛！\n",
            "C 狼與辛香料\n",
            "29 . 什麼協定（英語：Munich Agreement；捷克語：Mnichovská zrada；德語：Münchner Abkommen；1938年9月29日─9月30日）是英國、法國、德國、義大利四國首腦──張伯倫（首相）、達拉第（總理）、希特勒捷克斯洛伐克代表、墨索里尼在德國的慕尼黑召開的會議? 英法為避免戰爭爆發，簽署慕尼黑協定而犧牲捷克斯洛伐克的蘇台德地區，出賣了未在場的捷克斯洛伐克利益，是一項綏靖政策。\n",
            "A 德蘇互不侵犯條約\n",
            "B 慕尼黑協定\n",
            "C 英德海軍協定\n",
            "30 . 哪者是一種技術，是無中心伺服器、依靠用戶群（peers）交換資訊的網際網路體系，它的作用在於，減低以往網路傳輸中的節點，以降低資料遺失的風險。與有中心伺服器的中央網路系統不同，對等網路的每個用戶端既是一個節點，也有伺服器的功能，任何一個節點無法直接找到其他節點，必須依靠其戶群進行資訊交流\n",
            "A 對等網路\n",
            "B 主從式架構\n",
            "C 瀏覽器-伺服器\n",
            "31 . 是地球表層或表層下的振動所造成的地面震動，屬於一種自然現象。亦可由地殼運動、火山活動及隕石撞擊引起，或是人為活動如地下核試驗造成。\n",
            "A 颱風\n",
            "B 地震\n",
            "C 海嘯\n",
            "32 . 是美國第一個國家公園。主要位於懷俄明州，部分位於蒙大拿州和愛達荷州，是世界上第一個國家公園。以其豐富的野生動物種類和地熱資源聞名，老忠實間歇泉更是其中最富盛名的景點之一。公園中有著多種類型的生態系統，其中以亞高山帶森林為主。此為：\n",
            "A 拱門國家公園\n",
            "B 黃石國家公園\n",
            "C 甘尼遜黑峽谷國家公園\n",
            "33 . 哪者是一門基於原型、函式先行的語言，是一門多範式的語言，它支援物件導向編程，指令式程式設計，以及函數語言程式設計。它提供語法來操控文字、陣列、日期以及正規表示式等，不支援I/O，比如網路、儲存和圖形等，但這些都可以由它的宿主環境提供支援。它已經由ECMA（歐洲電腦製造商協會）透過ECMAScript實作語言的標準化。它被世界上的絕大多數網站所使用\n",
            "A JavaScript\n",
            "B Java\n",
            "C HTML5\n",
            "34 . 位於臺灣中南部，屬於中央管河川，是臺南市與嘉義縣的縣界溪及嘉義縣與嘉義市的縣市界溪?\n",
            "A 八掌溪\n",
            "B 北港溪\n",
            "C 蘇澳溪\n",
            "35 . 是不列顛傳說中的國王，也是凱爾特英雄譜中最受歡迎的圓桌騎士團（或譯圓桌武士）的騎士首領，一位近乎神話般的傳奇人物。\n",
            "A 亞歷山大大帝\n",
            "B 亞瑟王\n",
            "C 蘭斯洛特\n",
            "36 . 中國四大名著，即四大小說名著，是指三國演義、西遊記、紅樓夢還有哪一部作品?\n",
            "A 水滸傳\n",
            "B 史記\n",
            "C 聖經\n",
            "37 . 下列何者為是中華民國的最高行政機關?\n",
            "A 立法院\n",
            "B 行政院\n",
            "C 考試院\n",
            "38 . 是由質量足夠大的恆星在核融合反應的燃料耗盡後，發生重力塌縮而形成。質量是如此之大，它產生的重力場是如此之強，以致於大量可測物質和輻射都無法逃逸，就連傳播速度極快的光子也逃逸不出來。\n",
            "A 銀河\n",
            "B 宇宙\n",
            "C 黑洞\n",
            "39 . 哪者是一種特定目的程式語言，用於管理關聯式資料庫管理系統（RDBMS），或在關係流資料管理系統（RDSMS）中進行流處理。基於關係代數和元組關係演算，包括一個資料定義語言和資料操縱語言。範圍包括資料插入、查詢、更新和刪除，資料庫模式建立和修改，以及資料存取控制。儘管經常被描述為，而且很大程度上是一種聲明式編程（4GL），但是其也含有程序式編程的元素。\n",
            "A NoSQL\n",
            "B 資料查詢語言\n",
            "C SQL\n",
            "40 . 哪位中華民國政治人物，曾任中華民國第12、13任總統、國民黨主席等職。生於英屬香港九龍油麻地，籍貫湖南省衡山縣，馬鶴凌和秦厚修的兒子，1952年隨雙親定居台灣台北市\n",
            "A 馬英九\n",
            "B 馬友友\n",
            "C 李登輝\n",
            "41 . 哪種軟體是又稱非自由軟體、專屬軟體、私有軟體、封閉性軟體等，是指在使用、修改上有限制的軟體。此外，有些軟體也有複製和分發的限制，它也屬於專有軟體的範疇。通常，與專有軟體對應的是自由軟體。這些限制是由軟體的所有者制定的。這些限制是通過法律或者技術上的手段實現的，有時這兩種手段被同時採用。最常見的技術限制方式是保留能夠被大家讀懂的原始碼，而只發布只有電腦才能讀懂的程式（如二進位格式）。法律上的限制包括使用版權（附帶軟體許可證）和專利。這些程式的原始碼往往被其持有者視為商業機密。如果第三方要檢視原始碼時，往往需要簽署保密協定。\n",
            "A 商業軟體\n",
            "B 專有軟體\n",
            "C 自由軟體\n",
            "42 . 是由美國作家喬治·R·R·馬丁所著的史詩奇幻小說系列。不同於古典奇幻作品中常有的善惡分明、充滿魔法、並有許多非人種族參與故事的情節，而是以較寫實的方法去呈現故事中的世界。2011年本作被HBO改編成電視系列劇《權力遊戲》。此小說是?\n",
            "A 冰與火之歌\n",
            "B 噩盡島\n",
            "C 陰屍路\n",
            "43 . 哪一位物理學家被譽為「原子彈之父」，其領導的曼哈頓計劃研發出用於轟炸廣島與長崎的原子彈？\n",
            "A 亨利·劉易斯·史汀生\n",
            "B 羅伯特·歐本海默\n",
            "C 阿瑟·康普頓\n",
            "44 . Windows 10是一個由哪家公司開發的作業系統?\n",
            "A 微軟\n",
            "B 英特爾\n",
            "C 蘋果公司\n",
            "45 . 下列何者是全球人口最多的國家？\n",
            "A 美國\n",
            "B 印度\n",
            "C 中國\n",
            "46 . 哪部小說是2006年12月29日由TYPE-MOON公司發行的傳奇小說（輕小說），作者為Nitro+所屬的虛淵玄，人物設計與插畫為TYPE-MOON所屬的武內崇。\n",
            "A Fate/Zero\n",
            "B 月姬\n",
            "C 空之境界\n",
            "47 . 哪間天主教醫院是臺灣臺東縣歷史上第一間專門的婦產科醫院，截至2003年轉型前更接生過超過十萬名新生兒？\n",
            "A 台東基督教醫院\n",
            "B 衛生福利部臺東醫院\n",
            "C 台東聖母醫院\n",
            "48 . 哪位政治人物為中國國民黨籍政治人物，生於基隆，畢業於國立政治大學地政系、私立淡江大學國際事務與戰略研究所。為現任臺中市市長、連任六屆立法委員\n",
            "A 草包蝸牛屬\n",
            "B 谷關空氣瓶\n",
            "C 盧秀燕\n",
            "49 . 是11世紀至16世紀時位於南美洲的古老帝國，亦是前哥倫布時期美洲最大的帝國，在政治、軍事和文化中心位於今日秘魯的庫斯科。區域分布在南美洲的安地斯山脈上。此為?\n",
            "A 瑪雅\n",
            "B 印加\n",
            "C 阿茲特克\n",
            "50 . 哪台為任天堂公司在1989年發售的第一代可攜式掌上遊戲機。 擁有三個改版機型，分別是小尺寸的Game Boy Pocket，加入背光功能的Game Boy Light，以及彩色的Game Boy Color。截止2003年3月23日停產後，全系列機種合計在全球累計銷量為1億1869萬台，為目前世界上累計銷量第2位的掌上型遊戲機（第一位是任天堂DS）。任天堂的下一代掌機為2001年推出的任天堂Game Boy Advance。\n",
            "A PSP\n",
            "B Game Boy\n",
            "C Game Boy Advance\n",
            "51 . 哪者為泛指一系列基於Intel 8086且向下相容的中央處理器指令集架構。最早的8086處理器於1978年由Intel推出，為16位元微處理器。Intel在早期以80x86這樣的數字格式來命名處理器，包括Intel 8086、80186、80286、80386以及80486。由於數字並不能作為註冊商標，因此Intel及其競爭者均在新一代處理器使用可註冊的名稱，如奔騰（Pentium）、酷睿（Core）、銳龍（Ryzen，AMD推出）。\n",
            "A ARM架構\n",
            "B x86\n",
            "C PowerPC\n",
            "52 . 是暴雪娛樂發行的一款集換式卡片遊戲，該遊戲是一款免費遊戲，故事背景基於魔獸系列的世界觀。此遊戲是?\n",
            "A 魔獸世界\n",
            "B 星海爭霸系列\n",
            "C 爐石戰記\n",
            "53 . 哪者是微軟所開發的圖形化使用者介面網頁瀏覽器。自從1995年開始，內建在各個新版本的Windows作業系統作為預設的瀏覽器，也是微軟Windows作業系統的一個組成部份\n",
            "A Microsoft Edge\n",
            "B 網景\n",
            "C Internet Explorer\n",
            "54 . 哪位中華民國政治人物名文，幼名帝象，譜名德明，字載之，號逸仙、日新。流亡日本時，曾化名中山樵。生於滿清廣東省廣州府香山縣翠亨村，祖籍廣東省東莞。清末民初醫師、政治家、革命家、哲學家，是中華民國奠基人，亦是中國國民黨之創黨人。提倡三民主義。\n",
            "A 馬英九\n",
            "B 孫中山\n",
            "C 蘿莉控\n",
            "55 . 是國際上最主要的綜合型體育賽事，每4年舉行一次，最早起源於古希臘，因為舉辦地在奧林匹亞而得名。此為?\n",
            "A 奧林匹克運動會\n",
            "B 國際足協世界盃\n",
            "C 國家籃球協會\n",
            "56 . 是屬於突發性天然災害，是一種固態降水物，在對流雲所形成的積雨雲中形成，當水氣隨氣流上升遇冷會凝結成小水滴，若隨著高度增加溫度繼續降低，達到攝氏零度以下時，水滴就凝結成冰粒。此為?\n",
            "A 冰雹\n",
            "B 颱風\n",
            "C 冰塊\n",
            "57 . 哪者是電腦程式編寫時的一套命名規則（慣例）。當變數名和函式名稱是由二個或多個單字連結在一起，而構成的唯一識別字時，利用此方法來表示，可以增加變數和函式的可讀性。\n",
            "A 駝峰式大小寫\n",
            "B 山峰式大小寫\n",
            "C 匈牙利命名法\n",
            "58 . 哪台為日本任天堂公司開發的家用電視遊戲機。於1996年6月23日在日本面世，而北美洲於1996年9月29日、歐洲和澳洲於1997年3月1日、法國於1997年公開發售。最大的創新之處在於首次在手柄上加入了類比搖杆和震動功能。任天堂64上誕生了薩爾達傳說 時之笛和超級瑪利歐64等大作。任天堂64銷量為3293萬台。下一代產品為任天堂GameCube。\n",
            "A 任天堂64\n",
            "B 紅白機\n",
            "C wii\n",
            "59 . 哪者是一種軟體交付模式。在這種交付模式中雲端集中式代管軟體及其相關的資料，軟體僅需透過網際網路，而不須透過安裝即可使用。用戶通常使用精簡用戶端經由一個網頁瀏覽器來存取\n",
            "A 檔案分享\n",
            "B 數字發行\n",
            "C 軟體即服務\n",
            "60 . 是由育碧軟體發行的歷史隱蔽類遊戲系列（潛伏遊戲）。主要的單人遊戲由育碧蒙特婁進行開發，並且由育碧安納西進行多人遊戲的開發。該系列產品受到了大部分評論家的好評。\n",
            "A 看門狗\n",
            "B 極地戰嚎\n",
            "C 刺客教條\n",
            "61 . 基督教是信仰誰為神之聖子與救世主?\n",
            "A 十字架\n",
            "B 耶穌\n",
            "C 阿拉\n",
            "62 . 何者為亞洲國際組織?\n",
            "A 北大西洋公約組織\n",
            "B 亞太經濟合作會議\n",
            "C 阿拉伯議會聯盟\n",
            "63 . 下列何者不是威廉·莎士比亞著名戲劇作品之一?\n",
            "A 羅密歐與茱麗葉\n",
            "B 哈姆雷特\n",
            "C 蒙泰基奧\n",
            "64 . 夏目漱石為一日本小說家，請問何者為他長篇小說，是日本當代最受歡迎的小說之一?\n",
            "A 羅生門\n",
            "B 少爺\n",
            "C 風中奇緣\n",
            "65 . 下列哪種語言是全世界最多國家的官方語言?\n",
            "A 英語\n",
            "B 法語\n",
            "C 國語\n",
            "66 . 哪者是是用於彩現2D、3D向量圖形的跨語言、跨平台的應用程式編程埠（API）。這個埠由近350個不同的函式呼叫組成，用來從簡單的圖形位元繪製複雜的三維景象。而另一種程式介面系統是僅用於Microsoft Windows上的Direct3D。OpenGL常用於CAD、虛擬實境、科學視覺化程式和電子遊戲開發\n",
            "A JAVA\n",
            "B OpenGL\n",
            "C CUDA\n",
            "67 . 火力發電廠主要化石燃料是?\n",
            "A 二氧化碳\n",
            "B 紙\n",
            "C 煤\n",
            "68 . 哪位政治人物為民進黨提名參選桃園直轄市市長選舉，以五成餘的得票率爆冷門擊敗尋求連任的中國國民黨籍縣長吳志揚，當選桃園縣升格為直轄市後的首任桃園市市長，並以47歲之齡成為中華民國歷史上第二年輕的直轄市市長，僅次於陳水扁當選臺北市市長時的44歲 。2018年，在桃園市長選舉順利連任，成為民進黨首位以換屆選舉連任的桃園市市長當選（呂秀蓮是以補選上任，首位民進黨籍桃園縣長）。\n",
            "A 馬英九\n",
            "B 鄭文燦\n",
            "C 盧秀燕\n",
            "69 . 哪部電影是一部1931年的美國愛情喜劇電影，由查理·卓別林自編自導自演。本片講述了卓別林飾演的流浪漢愛上了一位賣花盲女，還結交了一位反覆無常的酗酒富翁的故事。卓別林於1928年開始創作劇本時，有聲電影的勢頭在增長，但他還是決定把本片做成默片。拍攝工作從1928年12月開始，到1930年9月結束。\n",
            "A 馬戲團\n",
            "B 城市之光\n",
            "C 淘金記\n",
            "70 . 哪位政治人物是臺灣新竹市人，中華民國外科醫師、無黨籍政治人物，現任臺北市市長。國立臺灣大學醫學院臨床醫學研究所博士畢業，曾任臺大醫院急診部醫師、臺大醫院創傷醫學部主任、臺大醫學院教授，專長為外科重症醫學、器官移植 、人工器官等，是臺灣第一個急診與重症加護專職醫生，為臺灣器官標準移植程序的建立者，也是首位將葉克膜（ECMO）技術引進臺灣的醫師。綽號柯P、KP\n",
            "A 柯文哲\n",
            "B 姚文智\n",
            "C 韓國瑜\n",
            "71 . 哪者是一種特殊的惡意軟體，又被人歸類為「阻斷存取式攻擊」（denial-of-access attack），其與其他病毒最大的不同在於手法以及中毒方式。其中一種僅是單純地將受害者的電腦鎖起來，而另一種則系統性地加密受害者硬碟上的檔案。所有的軟體都會要求受害者繳納贖金以取回對電腦的控制權，或是取回受害者根本無從自行取得的解密金鑰以便解密檔案。軟體通常透過木馬病毒的形式傳播，將自身為掩蓋為看似無害的檔案，通常會通過假冒成普通的電子郵件等社會工程學方法欺騙受害者點選連結下載，但也有可能與許多其他蠕蟲病毒一樣利用軟體的漏洞在聯網的電腦間傳播。\n",
            "A 恐嚇軟體\n",
            "B 勒索軟體\n",
            "C 灰色軟體\n",
            "72 . 《戰地風雲1》（英語：Battlefield 1，中國大陸譯作「戰地1」）是一款由什麼工作室開發? 的第一人稱射擊遊戲。本作是《戰地風雲》系列第13款作品也是繼《戰地風雲4》後再一次以數字編號的正統作品，其編號為「1」意謂本作舞台為現代化戰爭之原點與史上第一場全球性大規模戰爭的第「1」次世界大戰。\n",
            "A EA DICE\n",
            "B Bungie\n",
            "C Treyarch\n",
            "73 . 是一部於2014年上映的美國超級英雄電影，美國隊長的續集，由安東尼及喬·羅素共同執導。\n",
            "A 無限之戰\n",
            "B 奧創紀元\n",
            "C 酷寒戰士\n",
            "74 . 哪場在法國稱1870年法德戰爭，在德國稱德法戰爭，是普魯士為了統一德國，並與法國爭奪歐洲大陸霸權而爆發的戰爭。戰爭是由法國發動，最後以普魯士大獲全勝，建立德意志帝國告終。\n",
            "A 普法戰爭\n",
            "B 半島戰爭\n",
            "C 普魯士統一戰爭\n",
            "75 . 是日本的幫派組織中規模最大的指定暴力團。為全世界規模最龐大、收入最多的黑道組織之一，一年收入約66億美金。\n",
            "A 老鼠會\n",
            "B 極東會\n",
            "C 山口組\n",
            "76 . 請問下列何者跟吳哥古蹟一樣，屬於世界文化遺產?\n",
            "A 石塊\n",
            "B 建築\n",
            "C 泰姬瑪哈陵\n",
            "77 .  法國的首都是? \n",
            "A 芝加哥\n",
            "B 巴黎\n",
            "C 土魯斯\n",
            "78 .  哆啦A夢是哪個漫畫家的作品? \n",
            "A 藤子·F·不二雄\n",
            "B 大雄\n",
            "C 尾田榮一郎\n",
            "79 . 什麼戰役，又名英倫空戰，是第二次世界大戰期間納粹德國對英國發動的大規模空戰，而這次戰爭亦是第二次世界大戰中規模最大的空戰? 除了英、德兩國之外包括同屬大英國協的紐西蘭、加拿大、澳洲、南非、愛爾蘭、牙買加、斯里蘭卡、南羅德西亞等國的空勤人員也投入英軍。\n",
            "A 迪耶普戰役\n",
            "B 克里特島戰役\n",
            "C 不列顛戰役\n",
            "80 . 電腦科學名詞，當兩個以上的運算單元，雙方都在等待對方停止執行，以取得系統資源，但是沒有一方提前登出時，就稱為?\n",
            "A 頻寬\n",
            "B 類比\n",
            "C 死結\n",
            "81 . 哪部是日本小說家野村美月撰寫的輕小說系列，竹岡美穗繪製插畫，簡稱「文少」。系列全16冊（長篇8冊、短篇集4冊、外傳4冊），另有包括漫畫和動畫在內的多種跨媒體改編。\n",
            "A 月兔公主\n",
            "B 文學少女\n",
            "C 櫻花莊的寵物女孩\n",
            "82 . 是臺灣第五座國家公園，可溯至日治時期成立之次高太魯閣國立公園。公園內高山林立，峻秀壯觀，並有稀有的台灣寬尾鳳蝶，及瀕臨絕種的櫻花鉤吻鮭，是臺灣登山路線最多、最複雜的國家公園。\n",
            "A 玉山國家公園\n",
            "B 太魯閣國家公園\n",
            "C 雪霸國家公園\n",
            "83 . 德國哪個時期亦稱德意志第二帝國，是指從1871年1月18日普魯士王國統一日耳曼地區到1918年11月霍亨索倫王朝末任皇帝威廉二世退位為止的德國。\n",
            "A 威瑪共和國\n",
            "B 德意志帝國\n",
            "C 納粹德國\n",
            "84 . 哪者是日本一家生產樂器、音響設備及音效產品的公司，現時是世界上最大的樂器生產商。總部位於靜岡縣濱松市，旗下子公司還經營家居設備及以摩托車為主的事業。於2004年開發電子音樂製作語音合成軟體核心引擎VOCALOID\n",
            "A 川崎重工業‎\n",
            "B 山葉公司\n",
            "C 法蘭·山德公司\n",
            "85 . 創立於1993年1月，是一家以設計和銷售圖形處理器為主的無廠半導體公司。亦會設計遊戲機核心，例如Xbox和PlayStation。最出名的產品線是為個人與遊戲玩家所設計的GeForce系列。\n",
            "A NVIDIA\n",
            "B 英特爾\n",
            "C 微軟\n",
            "86 . 超級瑪利歐是任天堂的代表遊戲，下列何者也是?\n",
            "A 光碟機\n",
            "B 薩爾達傳說\n",
            "C 遊戲機\n",
            "87 . 1945年時第二次世界大戰以什麼參戰方勝利宣告結束? 而二次大戰對世界影響極為深遠，改變往後世界的政治版圖和社會結構，特別是戰敗的軸心國集團被迫接受戰勝方的安排。\n",
            "A 協約國\n",
            "B 軸心國\n",
            "C 同盟國\n",
            "88 . 哪者是乃是總部設在日本靜岡縣濱松市的汽車、機車製造商，在日本輕型車市場中市佔率排行第一。\n",
            "A 本田技研工業\n",
            "B 山葉公司\n",
            "C 鈴木公司\n",
            "89 . 哪部是以台灣高雄捷運公司的虛擬代言人做為題材的輕小說系列，台灣由尖端出版社出版、日本由GA文庫出版。\n",
            "A 前進吧！！北捷少男\n",
            "B 前進吧！！中捷少爺\n",
            "C 前進吧！！高捷少女\n",
            "90 . 下列何者是澳洲特有動物?\n",
            "A 老鼠\n",
            "B 塑膠袋\n",
            "C 袋鼠\n",
            "91 . 哪部是日本作家鴨志田一創作的輕小說，溝口凱吉負責插畫，於2014年在電擊文庫出版。本系列作者、插畫、編輯都是由小說《櫻花莊的寵物女孩》原班人馬負責。2018年3月10日，在電擊文庫25周年作品發表時宣布動畫化，於2018年10月4日開始放送，預定2019年上映劇場版\n",
            "A 魔法少女奈葉\n",
            "B 青春豬頭少年\n",
            "C 從零開始的魔法書\n",
            "92 . 哪者是由NVIDIA開發的圖形處理器系列。本系列於2018年8月20日的Gamescom（科隆遊戲展）上發表，是GeForce GTX 10系列的後續版本, 系列基於圖靈(Turing)微架構，具有即時光線追蹤功能。通過使用RT核心（光線追蹤運算核心）可以加速這一過程。這些核心能夠高效處理四叉樹和球形層次結構，並在碰撞模擬的過程中更快地為三角面組成的立體模型進行物體碰撞模擬。\n",
            "A NVIDIA GeForce RTX 20系列\n",
            "B OpenGL\n",
            "C GeForce 8系列\n",
            "93 . 哪位政治人物為中華民國臺灣政治人物，出生於台南縣七股鄉，美國哈佛大學公共行政碩士。現任臺南市長，曾任臺南市第二選區立法委員。2016年立法委員選舉，以76.47%得票率、146,414票壓倒性票數，當選立法委員，得票率是全台立委候選人最高者，也是當屆選舉台灣本島第一個自行宣布當選的候選人；2018年台南市長選舉，以38%的得票率，勝過其他五位候選人，當選台南市長。\n",
            "A 馬英九\n",
            "B 蔡英文\n",
            "C 黃偉哲\n",
            "94 . 哪者是由NVIDIA開發的系統單晶片系列產品，2008年6月1日正式發表，替代之前的GoForce系列。主要用於手持式裝置。可搭配NVIDIA專為智慧型手機及平板電腦開發的NVIDIA Icera系列晶片組。 主要競爭對手是高通和德州儀器的對應產品。\n",
            "A 圖睿\n",
            "B GeForce\n",
            "C NVIDIA Quadro\n",
            "95 . 哪者是一名美國著名企業家、投資者、軟體工程師、慈善家。他與保羅·艾倫一起創建微軟公司，曾任微軟董事長、CEO和首席軟體設計師，並持有公司超過8%的普通股，也是公司最大的個人股東。\n",
            "A 比爾·蓋茲\n",
            "B 薩蒂亞·納德拉\n",
            "C 史蒂芬·巴爾默\n",
            "96 . 哪者為是美商超微開發並推出市場的x86微處理器品牌，AMD Zen微架構的微處理器產品之一，其純CPU產品線於2017年3月上市販售，爲品牌命名的APU產品線於2017年10月上架。品牌於2016年12月13日AMD的New Horizon峰會上發表。中文名為「銳龍」。\n",
            "A AMD Ryzen\n",
            "B AMD Bulldozer\n",
            "C AMD Athlon 64 X2\n",
            "97 . 美國第35任總統，是美國頗具影響力的甘迺迪政治家族成員，被視為美國自由派的代表。於1963年11月22日在德克薩斯州達拉斯市遇刺身亡，官方在隨後的調查報告表明，李·奧斯華是刺殺的兇手，但奧斯華亦隨即被另一位刺客傑克·魯比刺殺，使得案件真相撲朔迷離。\n",
            "A 約翰·甘迺迪\n",
            "B 希拉蕊·柯林頓\n",
            "C 唐納·川普\n",
            "98 . 什麼是一類以抑鬱心境為主要特點的情感障礙?\n",
            "A 憂鬱症\n",
            "B 發燒\n",
            "C 流鼻水\n",
            "99 . 馬來西亞的首都是? \n",
            "A 吉隆坡\n",
            "B 檳城\n",
            "C 台北\n",
            "100 . 最大的特點是它受到刺激（如碰觸）時，葉面會收縮起來，而在光線較弱時比較敏感，平常葉枕內的水分支撐著葉片，但是當受到外力刺激時，葉枕內的水分會立即流向別處，使葉片閉合。\n",
            "A 含羞草\n",
            "B 蒲公英\n",
            "C 四葉草\n"
          ],
          "name": "stdout"
        }
      ]
    },
    {
      "cell_type": "markdown",
      "metadata": {
        "id": "ZqbSEc7L1Fl2",
        "colab_type": "text"
      },
      "source": [
        "#使用詞頻"
      ]
    },
    {
      "cell_type": "code",
      "metadata": {
        "id": "i0Y96QXnkjdB",
        "colab_type": "code",
        "outputId": "3f0f7261-5adb-4dc3-a9b8-878b895e5530",
        "colab": {
          "base_uri": "https://localhost:8080/",
          "height": 1000
        }
      },
      "source": [
        "import ijson\n",
        "f = open(\"Final_Questions.json\",\"r\",encoding='UTF-8')\n",
        "objects = ijson.items(f, 'item')\n",
        "s=0\n",
        "f_ans=[]\n",
        "f_error=[]\n",
        "i=1\n",
        "for article in list(objects)[0:]:\n",
        "  \n",
        "  try:\n",
        "    A=len(WIKI[article[\"A\"]])\n",
        "  except:\n",
        "    A=0\n",
        "  try:\n",
        "    B=len(WIKI[article[\"B\"]])\n",
        "  except:\n",
        "    B=0  \n",
        "  try:\n",
        "    C=len(WIKI[article[\"C\"]])\n",
        "  except:\n",
        "    C=0\n",
        "\n",
        "  print(i,\".\",\"A=\",A,\"B=\",B,\"C=\",C)\n",
        "  \n",
        "\n",
        "  #警報\n",
        "  if A==0 and B==0 and C==0:\n",
        "    print(\"----------------------------------------------------------------\") #警告用，詞頻全為0\n",
        "    f_error.append(i)\n",
        "  i=i+1\n",
        "  \n",
        "  if A>=B and A>=C :\n",
        "    f_ans.append(\"A\")\n",
        "    \"\"\"\n",
        "    if article[\"Answer : \"]=='A':\n",
        "      s+=1\n",
        "      print(\" right\")\n",
        "    \"\"\"\n",
        "  elif B>=A and B>=C :\n",
        "    f_ans.append(\"B\")\n",
        "    \"\"\"\n",
        "    if article[\"Answer : \"]=='B':\n",
        "      s+=1\n",
        "      print(\" right\")\n",
        "    \"\"\"\n",
        "  elif C>=A and C>=B :\n",
        "    f_ans.append(\"C\")\n",
        "    \"\"\"\n",
        "    if article[\"Answer : \"]=='C':\n",
        "      s+=1\n",
        "      print(\" right\")\n",
        "  print(\"Ans=\",article[\"Answer : \"])\n",
        "    \"\"\"\n",
        "#print(\"s=\",s)\n",
        "print(\"f_ANS=\",json.dumps(f_ans))\n",
        "print(\"f_error=\",json.dumps(f_error))"
      ],
      "execution_count": 0,
      "outputs": [
        {
          "output_type": "stream",
          "text": [
            "1 . A= 0 B= 8 C= 1\n",
            "2 . A= 410 B= 11 C= 1\n",
            "3 . A= 33 B= 0 C= 6\n",
            "4 . A= 772 B= 30 C= 66\n",
            "5 . A= 1220 B= 617 C= 310\n",
            "6 . A= 1430 B= 263 C= 978\n",
            "7 . A= 981 B= 0 C= 225\n",
            "8 . A= 1245 B= 237 C= 793\n",
            "9 . A= 1685 B= 3928 C= 1094\n",
            "10 . A= 6 B= 2 C= 6\n",
            "11 . A= 2 B= 91 C= 33\n",
            "12 . A= 412 B= 1555 C= 995\n",
            "13 . A= 2 B= 0 C= 0\n",
            "14 . A= 0 B= 18 C= 163\n",
            "15 . A= 119 B= 31 C= 88\n",
            "16 . A= 1 B= 0 C= 0\n",
            "17 . A= 34 B= 115 C= 3\n",
            "18 . A= 18 B= 6 C= 11\n",
            "19 . A= 51 B= 6 C= 7\n",
            "20 . A= 245 B= 26 C= 0\n",
            "21 . A= 0 B= 3 C= 0\n",
            "22 . A= 0 B= 67 C= 594\n",
            "23 . A= 1198 B= 2220 C= 235\n",
            "24 . A= 19 B= 13 C= 1\n",
            "25 . A= 0 B= 1 C= 0\n",
            "26 . A= 38 B= 7 C= 15\n",
            "27 . A= 182 B= 8 C= 46\n",
            "28 . A= 1 B= 2 C= 2\n",
            "29 . A= 0 B= 13 C= 2\n",
            "30 . A= 5 B= 16 C= 0\n",
            "31 . A= 1155 B= 1835 C= 508\n",
            "32 . A= 6 B= 38 C= 1\n",
            "33 . A= 107 B= 295 C= 51\n",
            "34 . A= 43 B= 33 C= 1\n",
            "35 . A= 238 B= 59 C= 18\n",
            "36 . A= 46 B= 79 C= 1257\n",
            "37 . A= 1042 B= 1413 C= 128\n",
            "38 . A= 422 B= 1774 C= 329\n",
            "39 . A= 2 B= 0 C= 78\n",
            "40 . A= 734 B= 22 C= 460\n",
            "41 . A= 0 B= 0 C= 0\n",
            "----------------------------------------------------------------\n",
            "42 . A= 6 B= 1 C= 8\n",
            "43 . A= 1 B= 0 C= 1\n",
            "44 . A= 858 B= 211 C= 324\n",
            "45 . A= 44350 B= 12508 C= 65478\n",
            "46 . A= 1 B= 10 C= 1\n",
            "47 . A= 0 B= 0 C= 0\n",
            "----------------------------------------------------------------\n",
            "48 . A= 0 B= 0 C= 6\n",
            "49 . A= 116 B= 61 C= 60\n",
            "50 . A= 146 B= 0 C= 0\n",
            "51 . A= 23 B= 151 C= 48\n",
            "52 . A= 53 B= 0 C= 0\n",
            "53 . A= 0 B= 34 C= 0\n",
            "54 . A= 734 B= 1120 C= 10\n",
            "55 . A= 493 B= 0 C= 0\n",
            "56 . A= 63 B= 1155 C= 136\n",
            "57 . A= 0 B= 0 C= 1\n",
            "58 . A= 38 B= 81 C= 4\n",
            "59 . A= 21 B= 10 C= 0\n",
            "60 . A= 11 B= 0 C= 9\n",
            "61 . A= 438 B= 1006 C= 305\n",
            "62 . A= 100 B= 0 C= 0\n",
            "63 . A= 11 B= 35 C= 4\n",
            "64 . A= 23 B= 82 C= 4\n",
            "65 . A= 3498 B= 1103 C= 1108\n",
            "66 . A= 28 B= 87 C= 21\n",
            "67 . A= 540 B= 811 C= 613\n",
            "68 . A= 734 B= 33 C= 6\n",
            "69 . A= 179 B= 5 C= 1\n",
            "70 . A= 120 B= 19 C= 1\n",
            "71 . A= 1 B= 0 C= 0\n",
            "72 . A= 0 B= 10 C= 4\n",
            "73 . A= 0 B= 0 C= 0\n",
            "----------------------------------------------------------------\n",
            "74 . A= 127 B= 24 C= 0\n",
            "75 . A= 4 B= 1 C= 88\n",
            "76 . A= 529 B= 14229 C= 0\n",
            "77 . A= 1057 B= 3331 C= 20\n",
            "78 . A= 1 B= 87 C= 32\n",
            "79 . A= 3 B= 9 C= 13\n",
            "80 . A= 221 B= 383 C= 19\n",
            "81 . A= 1 B= 2 C= 2\n",
            "82 . A= 37 B= 36 C= 18\n",
            "83 . A= 0 B= 289 C= 680\n",
            "84 . A= 0 B= 0 C= 1\n",
            "85 . A= 124 B= 211 C= 858\n",
            "86 . A= 25 B= 21 C= 329\n",
            "87 . A= 232 B= 226 C= 357\n",
            "88 . A= 31 B= 0 C= 72\n",
            "89 . A= 0 B= 0 C= 0\n",
            "----------------------------------------------------------------\n",
            "90 . A= 447 B= 39 C= 127\n",
            "91 . A= 7 B= 0 C= 0\n",
            "92 . A= 0 B= 87 C= 0\n",
            "93 . A= 734 B= 241 C= 9\n",
            "94 . A= 1 B= 53 C= 0\n",
            "95 . A= 0 B= 1 C= 0\n",
            "96 . A= 0 B= 0 C= 0\n",
            "----------------------------------------------------------------\n",
            "97 . A= 0 B= 0 C= 0\n",
            "----------------------------------------------------------------\n",
            "98 . A= 154 B= 261 C= 0\n",
            "99 . A= 572 B= 288 C= 0\n",
            "100 . A= 11 B= 101 C= 11\n",
            "f_ANS= [\"B\", \"A\", \"A\", \"A\", \"A\", \"A\", \"A\", \"A\", \"B\", \"A\", \"B\", \"B\", \"A\", \"C\", \"A\", \"A\", \"B\", \"A\", \"A\", \"A\", \"B\", \"C\", \"B\", \"A\", \"B\", \"A\", \"A\", \"B\", \"B\", \"B\", \"B\", \"B\", \"B\", \"A\", \"A\", \"C\", \"B\", \"B\", \"C\", \"A\", \"A\", \"C\", \"A\", \"A\", \"C\", \"B\", \"A\", \"C\", \"A\", \"A\", \"B\", \"A\", \"B\", \"B\", \"A\", \"B\", \"C\", \"B\", \"A\", \"A\", \"B\", \"A\", \"B\", \"B\", \"A\", \"B\", \"B\", \"A\", \"A\", \"A\", \"A\", \"B\", \"A\", \"A\", \"C\", \"B\", \"B\", \"B\", \"C\", \"B\", \"B\", \"A\", \"C\", \"C\", \"C\", \"C\", \"C\", \"C\", \"A\", \"A\", \"A\", \"B\", \"A\", \"B\", \"B\", \"A\", \"A\", \"B\", \"A\", \"B\"]\n",
            "f_error= [41, 47, 73, 89, 96, 97]\n"
          ],
          "name": "stdout"
        }
      ]
    },
    {
      "cell_type": "code",
      "metadata": {
        "id": "x-deZQ_c3HFP",
        "colab_type": "code",
        "outputId": "f50f2ef4-7fb3-4cef-ffd3-fd870e1c1a63",
        "colab": {
          "base_uri": "https://localhost:8080/",
          "height": 54
        }
      },
      "source": [
        "print(json.dumps(f_ans))"
      ],
      "execution_count": 0,
      "outputs": [
        {
          "output_type": "stream",
          "text": [
            "[\"B\", \"C\", \"B\", \"A\", \"C\", \"B\", \"C\", \"A\", \"B\", \"A\", \"A\", \"B\", \"B\", \"B\", \"A\", \"B\", \"A\", \"C\", \"B\", \"B\", \"C\", \"A\", \"C\", \"B\", \"A\", \"A\", \"B\", \"C\", \"A\", \"A\", \"C\", \"B\", \"C\", \"B\", \"A\", \"A\", \"B\", \"B\", \"B\", \"C\", \"C\", \"B\", \"A\", \"C\", \"A\", \"C\", \"C\", \"B\", \"B\", \"B\", \"B\", \"B\", \"C\", \"B\", \"A\", \"B\", \"C\", \"A\", \"B\", \"C\", \"B\", \"B\", \"C\", \"C\", \"C\", \"A\", \"C\", \"C\", \"B\", \"A\", \"C\", \"B\", \"B\", \"B\", \"B\", \"A\", \"B\", \"C\", \"B\", \"A\", \"B\", \"A\", \"B\", \"A\", \"C\", \"B\", \"A\", \"C\", \"A\", \"C\", \"B\", \"C\", \"C\", \"A\", \"B\", \"B\", \"A\", \"C\", \"C\", \"A\", \"C\", \"A\", \"A\", \"A\", \"A\", \"C\", \"C\", \"A\", \"A\", \"A\", \"A\", \"B\", \"A\", \"B\", \"A\", \"A\", \"C\", \"C\", \"B\", \"A\", \"B\", \"B\", \"B\", \"C\", \"C\", \"C\", \"B\", \"A\", \"A\", \"A\", \"C\", \"B\", \"A\", \"A\", \"A\", \"B\", \"C\", \"A\", \"A\", \"A\", \"A\", \"A\", \"A\", \"A\", \"A\", \"C\", \"B\", \"A\", \"B\", \"C\", \"B\", \"A\", \"A\", \"C\", \"B\", \"A\", \"A\", \"C\", \"C\", \"A\", \"B\", \"C\", \"A\", \"A\", \"C\", \"A\", \"B\", \"A\", \"C\", \"C\", \"B\", \"B\", \"B\", \"C\", \"A\", \"A\", \"B\", \"C\", \"A\", \"B\", \"C\", \"C\", \"C\", \"A\", \"B\", \"A\", \"A\", \"B\", \"B\", \"A\", \"C\", \"C\", \"C\", \"A\", \"A\", \"A\", \"B\", \"B\", \"C\", \"B\"]\n"
          ],
          "name": "stdout"
        }
      ]
    },
    {
      "cell_type": "markdown",
      "metadata": {
        "id": "EqXvqvhf3E_V",
        "colab_type": "text"
      },
      "source": [
        "#詞頻人工區\n"
      ]
    },
    {
      "cell_type": "markdown",
      "metadata": {
        "id": "i88pTVXm3Bxj",
        "colab_type": "text"
      },
      "source": [
        "###查題目用"
      ]
    },
    {
      "cell_type": "code",
      "metadata": {
        "id": "JjRhFGaTedOl",
        "colab_type": "code",
        "colab": {}
      },
      "source": [
        "\n",
        "f = open(\"Final_Questions.json\",\"r\",encoding='UTF-8')\n",
        "objects = ijson.items(f, 'item')\n",
        "\n",
        "s_number=1  # 要查的題目起始編號\n",
        "i=s_number\n",
        "end_number=33  #要查的題目終端編號\n",
        "\n",
        "for article in list(objects)[(s_number-1):(end_number)]:\n",
        "  print((i),\".\",article[\"Question\"]),\n",
        "  print(\"A\",article[\"A\"]),\n",
        "  print(\"B\",article[\"B\"]),\n",
        "  print(\"C\",article[\"C\"]),\n",
        "  print(\"ANS:\",f_ans[i-1]),\n",
        "  print(\"\\n\")\n",
        "  i+=1\n"
      ],
      "execution_count": 0,
      "outputs": []
    },
    {
      "cell_type": "code",
      "metadata": {
        "id": "BIwVOknF0uLk",
        "colab_type": "code",
        "outputId": "7e90e38e-114d-41e6-dd3b-e82569d4b4c2",
        "colab": {
          "base_uri": "https://localhost:8080/",
          "height": 132
        }
      },
      "source": [
        "\n",
        "f = open(\"Final_Questions.json\",\"r\",encoding='UTF-8')\n",
        "article = ijson.items(f, 'item')\n",
        "\n",
        "s_number=1  # 要查的題目起始編號\n",
        "i=s_number\n",
        "end_number=33  #要查的題目終端編號\n",
        "Q = [1,2,3,4]\n",
        "\n",
        "for i in list(Q):\n",
        "  print((i,\".\",article[i-1][\"Question\"]),\n",
        "  print(\"A\",article[i-1][\"A\"]),\n",
        "  print(\"B\",article[i-1][\"B\"]),\n",
        "  print(\"C\",article[i-1][\"C\"])"
      ],
      "execution_count": 0,
      "outputs": [
        {
          "output_type": "error",
          "ename": "SyntaxError",
          "evalue": "ignored",
          "traceback": [
            "\u001b[0;36m  File \u001b[0;32m\"<ipython-input-6-ae398c8e1679>\"\u001b[0;36m, line \u001b[0;32m14\u001b[0m\n\u001b[0;31m    print(\"C\",article[i-1][\"C\"])\u001b[0m\n\u001b[0m                                ^\u001b[0m\n\u001b[0;31mSyntaxError\u001b[0m\u001b[0;31m:\u001b[0m unexpected EOF while parsing\n"
          ]
        }
      ]
    },
    {
      "cell_type": "markdown",
      "metadata": {
        "id": "nbEqGrgM7WAn",
        "colab_type": "text"
      },
      "source": [
        "###人工閱卷改答案\n"
      ]
    },
    {
      "cell_type": "code",
      "metadata": {
        "id": "rkO5BlWG0uE3",
        "colab_type": "code",
        "outputId": "4aac1c6a-400e-4a66-e3f5-0b3cdef69117",
        "colab": {
          "base_uri": "https://localhost:8080/",
          "height": 54
        }
      },
      "source": [
        "number=1       #要改的題號 \n",
        "#f_ans[(number-1)] =\"B\" #要改的答案\n",
        "print(json.dumps(f_ans))\n"
      ],
      "execution_count": 0,
      "outputs": [
        {
          "output_type": "stream",
          "text": [
            "[\"B\", \"C\", \"B\", \"A\", \"C\", \"B\", \"C\", \"A\", \"B\", \"A\", \"A\", \"B\", \"B\", \"B\", \"A\", \"B\", \"A\", \"C\", \"B\", \"B\", \"C\", \"A\", \"C\", \"B\", \"A\", \"A\", \"B\", \"C\", \"A\", \"A\", \"C\", \"B\", \"C\", \"B\", \"A\", \"A\", \"B\", \"B\", \"B\", \"C\", \"C\", \"B\", \"A\", \"C\", \"A\", \"C\", \"C\", \"B\", \"B\", \"B\", \"B\", \"B\", \"C\", \"B\", \"A\", \"B\", \"C\", \"A\", \"B\", \"C\", \"B\", \"B\", \"C\", \"C\", \"C\", \"A\", \"C\", \"C\", \"B\", \"A\", \"C\", \"B\", \"B\", \"B\", \"B\", \"A\", \"B\", \"C\", \"B\", \"A\", \"B\", \"A\", \"B\", \"A\", \"C\", \"B\", \"A\", \"C\", \"A\", \"C\", \"B\", \"C\", \"C\", \"A\", \"B\", \"B\", \"A\", \"C\", \"C\", \"A\", \"C\", \"A\", \"A\", \"A\", \"A\", \"C\", \"C\", \"A\", \"A\", \"A\", \"A\", \"B\", \"A\", \"B\", \"A\", \"A\", \"C\", \"C\", \"B\", \"A\", \"B\", \"B\", \"B\", \"C\", \"C\", \"C\", \"B\", \"A\", \"A\", \"A\", \"C\", \"B\", \"A\", \"A\", \"A\", \"B\", \"C\", \"A\", \"A\", \"A\", \"A\", \"A\", \"A\", \"A\", \"A\", \"C\", \"B\", \"A\", \"B\", \"C\", \"B\", \"A\", \"A\", \"C\", \"B\", \"A\", \"A\", \"C\", \"C\", \"A\", \"B\", \"C\", \"A\", \"A\", \"C\", \"A\", \"B\", \"A\", \"C\", \"C\", \"B\", \"B\", \"B\", \"C\", \"A\", \"A\", \"B\", \"C\", \"A\", \"B\", \"C\", \"C\", \"C\", \"A\", \"B\", \"A\", \"A\", \"B\", \"B\", \"A\", \"C\", \"C\", \"C\", \"A\", \"A\", \"A\", \"B\", \"B\", \"C\", \"B\"]\n"
          ],
          "name": "stdout"
        }
      ]
    },
    {
      "cell_type": "code",
      "metadata": {
        "id": "yJFssSmd0U7m",
        "colab_type": "code",
        "colab": {}
      },
      "source": [
        ""
      ],
      "execution_count": 0,
      "outputs": []
    },
    {
      "cell_type": "markdown",
      "metadata": {
        "id": "A7-QtF3D0WYf",
        "colab_type": "text"
      },
      "source": [
        "#使用TF-IDF"
      ]
    },
    {
      "cell_type": "code",
      "metadata": {
        "id": "Q951IhHx0UyO",
        "colab_type": "code",
        "outputId": "cd9074f3-0a36-4646-f738-f046cb773c98",
        "colab": {
          "base_uri": "https://localhost:8080/",
          "height": 251
        }
      },
      "source": [
        "!pip install git+https://github.com/APCLab/jieba-tw.git"
      ],
      "execution_count": 0,
      "outputs": [
        {
          "output_type": "stream",
          "text": [
            "Collecting git+https://github.com/APCLab/jieba-tw.git\n",
            "  Cloning https://github.com/APCLab/jieba-tw.git to /tmp/pip-req-build-9rcuka30\n",
            "  Running command git clone -q https://github.com/APCLab/jieba-tw.git /tmp/pip-req-build-9rcuka30\n",
            "Building wheels for collected packages: jieba\n",
            "  Building wheel for jieba (setup.py) ... \u001b[?25l\u001b[?25hdone\n",
            "  Created wheel for jieba: filename=jieba-0.39.1-cp36-none-any.whl size=6603861 sha256=b1b6a5048caa1ff1f2f03dc6decdbaee24316c7b175237e766576768524d8d0b\n",
            "  Stored in directory: /tmp/pip-ephem-wheel-cache-hdedqd4g/wheels/9d/80/40/e3449d06ed4c0a5f96091452072765e804e5df8d353192a6b3\n",
            "Successfully built jieba\n",
            "Installing collected packages: jieba\n",
            "  Found existing installation: jieba 0.39\n",
            "    Uninstalling jieba-0.39:\n",
            "      Successfully uninstalled jieba-0.39\n",
            "Successfully installed jieba-0.39.1\n"
          ],
          "name": "stdout"
        }
      ]
    },
    {
      "cell_type": "code",
      "metadata": {
        "id": "B797M-2E0Ume",
        "colab_type": "code",
        "colab": {}
      },
      "source": [
        "import jieba\n",
        "import jieba.analyse"
      ],
      "execution_count": 0,
      "outputs": []
    },
    {
      "cell_type": "code",
      "metadata": {
        "id": "eRv0FMzRXOUS",
        "colab_type": "code",
        "outputId": "bbb877cc-d652-44a7-8ac1-ab6dda7653ea",
        "colab": {
          "base_uri": "https://localhost:8080/",
          "height": 1000
        }
      },
      "source": [
        "import json\n",
        "\n",
        "with open('Final_Questions.json', 'r', encoding='UTF-8') as f:\n",
        "\tJsonList = json.load(f)\n",
        "\n",
        "\n",
        "\n",
        "def qjb (q):\n",
        "  content = JsonList[q]['Question']\n",
        "  tags = jieba.analyse.extract_tags(content,3)\n",
        "\n",
        "  return tags\n",
        "words=[]\n",
        "for i in range(200):\n",
        "  print(qjb(i))\n",
        "  words.append(qjb(i))"
      ],
      "execution_count": 0,
      "outputs": [
        {
          "output_type": "stream",
          "text": [
            "Building prefix dict from the default dictionary ...\n",
            "Dumping model to file cache /tmp/jieba.cache\n",
            "Loading model cost 1.582 seconds.\n",
            "Prefix dict has been built succesfully.\n"
          ],
          "name": "stderr"
        },
        {
          "output_type": "stream",
          "text": [
            "['中華民國', '14', '總統']\n",
            "['軍事', '將領', '入關']\n",
            "['台灣', '搖滾', '樂團']\n",
            "['戰國', '時期', '百家爭鳴']\n",
            "['漢朝', '稱為', '身毒']\n",
            "['十年', '河東', '條河']\n",
            "['鄭和', '遠到', '哪裡']\n",
            "['土耳其', '首都']\n",
            "['四川菜', '何者', '名菜']\n",
            "['長大', '338', '流經']\n",
            "['顏色', '奧林匹克', '環中']\n",
            "['聖海倫', '位於', '國家']\n",
            "['國家', '屬於', '東南亞']\n",
            "['稱為', '劍橋', '公爵']\n",
            "['Keroro', '軍曹', '漫畫家']\n",
            "['小說', '狼人', '四集']\n",
            "['由艾西莫', '夫於', '1954']\n",
            "['奇幻', '托爾金', '創作']\n",
            "['美國', '喬治', '馬丁']\n",
            "['伍迪', '影集', '美國']\n",
            "['電影', '1997', '災難']\n",
            "['布蘭登', '最後', '帝國']\n",
            "['電影', '2008', '超級']\n",
            "['小說', '科幻', '赫伯']\n",
            "['柯南', '名偵探', '劇中']\n",
            "['宮崎駿', '下列', '一部']\n",
            "['美國', '白宮', '總統']\n",
            "['動物', '南極洲', '下列']\n",
            "['馬卡龍', '出現', '義大利']\n",
            "['請問', '哪裡', '瑞典']\n",
            "['法國', '塞納河', 'Seine']\n",
            "['創作', '藍色', '奧地利']\n",
            "['影集', '本特', '法蘭']\n",
            "['網路', '小說', '作家']\n",
            "['改編', '台灣', '侯文詠']\n",
            "['天下', '漫畫家', '中華']\n",
            "['武俠', '小說', '情節']\n",
            "['小說', '系列', '美國']\n",
            "['遊戲', '第三人', '射擊']\n",
            "['遊戲', '年度', '冒險類']\n",
            "['遊戲', '者為', '題材']\n",
            "['贏得', '艾美獎', '獎項']\n",
            "['本片', '2006', '驚悚']\n",
            "['何仙姑', '漢鍾離', '呂洞賓']\n",
            "['美國', '題材', '電視']\n",
            "['王國', '1337', '年至']\n",
            "['普利茅', '1620', '英格蘭']\n",
            "['戰國', '衛國', '淇縣']\n",
            "['帝國', '波斯', '佩拉']\n",
            "['語言', '下列', '瑞士']\n",
            "['光緒帝', '政變', '軟禁']\n",
            "['中華民國', '國花', '下列']\n",
            "['洛杉磯', '湖人', '英語']\n",
            "['維多利亞港', '簡稱', '維港']\n",
            "['青洲', '摩星嶺', '臨卑路']\n",
            "['戰役', '發生', '1389']\n",
            "['魚類', '特徵', '2004']\n",
            "['俄國', '主義', '企圖']\n",
            "['戰爭', '玫瑰', '下列']\n",
            "['生於', '普魯士', '王國']\n",
            "['父親', '宙斯', '希臘']\n",
            "['何處', '闡述', '深具']\n",
            "['千零', '天方夜譚', '何處']\n",
            "['蕭邦', '譽為', '鋼琴']\n",
            "['天鵝湖', '芭蕾舞劇', '芭蕾舞團']\n",
            "['馬友友', '獲得', '葛萊美獎']\n",
            "['一部', '美麗', '廣為']\n",
            "['傳統', '戀愛', '悲劇']\n",
            "['建築', '何者', '巴洛克']\n",
            "['波爾', '法國', '時代']\n",
            "['請問', '美國', '演員']\n",
            "['強森', '演員', '職業']\n",
            "['體型', '袋鼠', '下列']\n",
            "['無尾熊', '屬於', '動物']\n",
            "['超級', '電影', '美國']\n",
            "['請問', '賽車', '跑車']\n",
            "['歐洲', '源頭', '來自']\n",
            "['波蘭', '小說', '安傑']\n",
            "['亞瑟王', '傳說', '魔法師']\n",
            "['刑案', '白曉燕', '加害人']\n",
            "['仙劍', '奇俠', '遊戲']\n",
            "['小說', '經濟', '重點']\n",
            "['開膛手', '傑克', 'Jack']\n",
            "['AlphaGo', '職業', '棋手']\n",
            "['埃里希', '西線', '無戰事']\n",
            "['電影', '北野武', '導演']\n",
            "['愛滋病', '簡稱', '為何']\n",
            "['臺灣', '總統', '何者']\n",
            "['哺乳類', '何者', '下列']\n",
            "['宗師', '詠春', '葉問']\n",
            "['小說', '武俠', '狐沖於']\n",
            "['小說', '絕代', '小魚']\n",
            "['電影', '約翰', '卡本特']\n",
            "['人類', '理論', '機器人']\n",
            "['理論', '威爾遜', '喬治']\n",
            "['人類', '戰爭', '第二次世界大戰']\n",
            "['芥川龍', '介為', '小說家']\n",
            "['網路', '特殊', '軟體']\n",
            "['美國', '連續', '殺人犯']\n",
            "['症候群', '日落', '時刻']\n",
            "['傳奇', '妖怪', '現代']\n",
            "['遊戲', '出題', '問題']\n",
            "['信仰', '台灣', '民間']\n",
            "['網路', '知名', '作家']\n",
            "['詛咒', '關於', '美國']\n",
            "['王品', '集團', '台塑']\n",
            "['壯憲', '人稱', '姚仙']\n",
            "['小說', '貓膩', '曉峰']\n",
            "['傳說', '中國', '兇惡']\n",
            "['占卜', '華人', '廣為']\n",
            "['選手', '職業', '擅長']\n",
            "['賽事', '名詞', '連續']\n",
            "['實驗', '丁格', '問題']\n",
            "['導演', '電影', '日本']\n",
            "['2013', '兇嫌', '陳佳富']\n",
            "['美國', '1940', '洛杉磯']\n",
            "['阿嬤', '時代', '慈善']\n",
            "['中國', '音樂', '2015']\n",
            "['祖父', '悖論', '小說']\n",
            "['中國', '珠穆', '屬於']\n",
            "['生物', '形象', '民間']\n",
            "['生物', '傳說', '據聞']\n",
            "['層級', '時間', '25']\n",
            "['美國', '執法', '調查']\n",
            "['福田', '殺害', '被害人']\n",
            "['自殺', '許多', '勝地']\n",
            "['英國', '歐洲', '位於']\n",
            "['英國', '國王', '詹姆斯']\n",
            "['文藝復興', '時期', '傑出']\n",
            "['英國', '時間', '女王']\n",
            "['法國', '大革命', '軍事']\n",
            "['羅馬', '雷斯', '反抗']\n",
            "['編史', '西歐', '歷史']\n",
            "['反對', '理論', '難以']\n",
            "['意義', '作為', '哲學']\n",
            "['小說', '短篇', '寫於']\n",
            "['蘇塔', '統治', '羅馬人']\n",
            "['出版', '台灣', '規模']\n",
            "['知識', '世紀', '運動']\n",
            "['文學', '小說', '手法']\n",
            "['帶來', '公司', '有價證券']\n",
            "['美國', '國內', '貸款']\n",
            "['現象', '性質', '整體']\n",
            "['危機', '國家', '簡稱']\n",
            "['網路', '貨幣', '稱為']\n",
            "['運動', '雨傘', '佔領']\n",
            "['服務', '網路', 'Yahoo']\n",
            "['網路', '媒體', '台灣']\n",
            "['東洋', '牛蒡', '牛鞭']\n",
            "['歷史', '朝代', '建都']\n",
            "['沛縣', '平民', '出身']\n",
            "['北涼', '歐亞大陸', '遊牧']\n",
            "['氣體', '厭氧', '產生']\n",
            "['越南', '現是', '直轄市']\n",
            "['莫斯科', '二多', '伊斯坦堡']\n",
            "['物質', '形態', '四態']\n",
            "['反應', '聚變', '過程']\n",
            "['聖座', '天主教', '教宗']\n",
            "['源頭', '計算', '總長度']\n",
            "['簡稱', '位於', '中華']\n",
            "['安撫', '幼安', '號稼軒']\n",
            "['琴身', '發聲', '振動']\n",
            "['東坡', '學士', '嘉佑']\n",
            "['利亞', '俄羅斯', '蒙古國']\n",
            "['歐洲', '主權國家', '位於']\n",
            "['行政區', '紐約', '哈林']\n",
            "['廣東省', '香港島', '北接']\n",
            "['國家', '北歐', '陸地']\n",
            "['俄國', '臨時', '政府']\n",
            "['韓國', '朝鮮', '位於']\n",
            "['蘇丹', '埃及', '源頭']\n",
            "['簡稱', '美國', '別名']\n",
            "['美國', '位於', '伊利諾州']\n",
            "['位於', '美國', '該州']\n",
            "['什麼', '重視', '人類']\n",
            "['博物館', '不列顛', '位於']\n",
            "['中國', '大國', '通稱']\n",
            "['什麼', '飛彈', '裂變']\n",
            "['效應', '行星', '大氣層']\n",
            "['國際', '各國', '主權國家']\n",
            "['島嶼', '位於', '威靈頓']\n",
            "['鹿特丹', '海牙', '位於']\n",
            "['國家', '非洲', '位於']\n",
            "['臺灣', '導演', '飲食男女']\n",
            "['美國', '加利福尼亞州', '涼爽']\n",
            "['戰國', '家康', '時代']\n",
            "['激素', '分泌', '男性']\n",
            "['語言', '義大利', '羅馬']\n",
            "['美國', '位於', '海軍']\n",
            "['生產', '行動', '通訊']\n",
            "['處理器', '晶片', '安迪']\n",
            "['大學', '臺北', '帝國']\n",
            "['位於', '三大', '宗教']\n",
            "['馬特', '以色列', '城市']\n",
            "['四川', '中華', '共和國']\n",
            "['位於', '西亞', '主權國家']\n",
            "['雲南', '人類', '簡稱']\n",
            "['廣東話', '廣州', '兩廣']\n",
            "['反應', '出現', '綜合症']\n",
            "['義大利', '阿爾卑斯山', '奧地利']\n"
          ],
          "name": "stdout"
        }
      ]
    },
    {
      "cell_type": "code",
      "metadata": {
        "id": "7jfovydjiHD_",
        "colab_type": "code",
        "outputId": "3731a7ca-d885-4c8f-e783-f510988ce394",
        "colab": {
          "base_uri": "https://localhost:8080/",
          "height": 54
        }
      },
      "source": [
        "print(words)"
      ],
      "execution_count": 0,
      "outputs": [
        {
          "output_type": "stream",
          "text": [
            "[['中華民國', '14', '總統'], ['軍事', '將領', '入關'], ['台灣', '搖滾', '樂團'], ['戰國', '時期', '百家爭鳴'], ['漢朝', '稱為', '身毒'], ['十年', '河東', '條河'], ['鄭和', '遠到', '哪裡'], ['土耳其', '首都'], ['四川菜', '何者', '名菜'], ['長大', '338', '流經'], ['顏色', '奧林匹克', '環中'], ['聖海倫', '位於', '國家'], ['國家', '屬於', '東南亞'], ['稱為', '劍橋', '公爵'], ['Keroro', '軍曹', '漫畫家'], ['小說', '狼人', '四集'], ['由艾西莫', '夫於', '1954'], ['奇幻', '托爾金', '創作'], ['美國', '喬治', '馬丁'], ['伍迪', '影集', '美國'], ['電影', '1997', '災難'], ['布蘭登', '最後', '帝國'], ['電影', '2008', '超級'], ['小說', '科幻', '赫伯'], ['柯南', '名偵探', '劇中'], ['宮崎駿', '下列', '一部'], ['美國', '白宮', '總統'], ['動物', '南極洲', '下列'], ['馬卡龍', '出現', '義大利'], ['請問', '哪裡', '瑞典'], ['法國', '塞納河', 'Seine'], ['創作', '藍色', '奧地利'], ['影集', '本特', '法蘭'], ['網路', '小說', '作家'], ['改編', '台灣', '侯文詠'], ['天下', '漫畫家', '中華'], ['武俠', '小說', '情節'], ['小說', '系列', '美國'], ['遊戲', '第三人', '射擊'], ['遊戲', '年度', '冒險類'], ['遊戲', '者為', '題材'], ['贏得', '艾美獎', '獎項'], ['本片', '2006', '驚悚'], ['何仙姑', '漢鍾離', '呂洞賓'], ['美國', '題材', '電視'], ['王國', '1337', '年至'], ['普利茅', '1620', '英格蘭'], ['戰國', '衛國', '淇縣'], ['帝國', '波斯', '佩拉'], ['語言', '下列', '瑞士'], ['光緒帝', '政變', '軟禁'], ['中華民國', '國花', '下列'], ['洛杉磯', '湖人', '英語'], ['維多利亞港', '簡稱', '維港'], ['青洲', '摩星嶺', '臨卑路'], ['戰役', '發生', '1389'], ['魚類', '特徵', '2004'], ['俄國', '主義', '企圖'], ['戰爭', '玫瑰', '下列'], ['生於', '普魯士', '王國'], ['父親', '宙斯', '希臘'], ['何處', '闡述', '深具'], ['千零', '天方夜譚', '何處'], ['蕭邦', '譽為', '鋼琴'], ['天鵝湖', '芭蕾舞劇', '芭蕾舞團'], ['馬友友', '獲得', '葛萊美獎'], ['一部', '美麗', '廣為'], ['傳統', '戀愛', '悲劇'], ['建築', '何者', '巴洛克'], ['波爾', '法國', '時代'], ['請問', '美國', '演員'], ['強森', '演員', '職業'], ['體型', '袋鼠', '下列'], ['無尾熊', '屬於', '動物'], ['超級', '電影', '美國'], ['請問', '賽車', '跑車'], ['歐洲', '源頭', '來自'], ['波蘭', '小說', '安傑'], ['亞瑟王', '傳說', '魔法師'], ['刑案', '白曉燕', '加害人'], ['仙劍', '奇俠', '遊戲'], ['小說', '經濟', '重點'], ['開膛手', '傑克', 'Jack'], ['AlphaGo', '職業', '棋手'], ['埃里希', '西線', '無戰事'], ['電影', '北野武', '導演'], ['愛滋病', '簡稱', '為何'], ['臺灣', '總統', '何者'], ['哺乳類', '何者', '下列'], ['宗師', '詠春', '葉問'], ['小說', '武俠', '狐沖於'], ['小說', '絕代', '小魚'], ['電影', '約翰', '卡本特'], ['人類', '理論', '機器人'], ['理論', '威爾遜', '喬治'], ['人類', '戰爭', '第二次世界大戰'], ['芥川龍', '介為', '小說家'], ['網路', '特殊', '軟體'], ['美國', '連續', '殺人犯'], ['症候群', '日落', '時刻'], ['傳奇', '妖怪', '現代'], ['遊戲', '出題', '問題'], ['信仰', '台灣', '民間'], ['網路', '知名', '作家'], ['詛咒', '關於', '美國'], ['王品', '集團', '台塑'], ['壯憲', '人稱', '姚仙'], ['小說', '貓膩', '曉峰'], ['傳說', '中國', '兇惡'], ['占卜', '華人', '廣為'], ['選手', '職業', '擅長'], ['賽事', '名詞', '連續'], ['實驗', '丁格', '問題'], ['導演', '電影', '日本'], ['2013', '兇嫌', '陳佳富'], ['美國', '1940', '洛杉磯'], ['阿嬤', '時代', '慈善'], ['中國', '音樂', '2015'], ['祖父', '悖論', '小說'], ['中國', '珠穆', '屬於'], ['生物', '形象', '民間'], ['生物', '傳說', '據聞'], ['層級', '時間', '25'], ['美國', '執法', '調查'], ['福田', '殺害', '被害人'], ['自殺', '許多', '勝地'], ['英國', '歐洲', '位於'], ['英國', '國王', '詹姆斯'], ['文藝復興', '時期', '傑出'], ['英國', '時間', '女王'], ['法國', '大革命', '軍事'], ['羅馬', '雷斯', '反抗'], ['編史', '西歐', '歷史'], ['反對', '理論', '難以'], ['意義', '作為', '哲學'], ['小說', '短篇', '寫於'], ['蘇塔', '統治', '羅馬人'], ['出版', '台灣', '規模'], ['知識', '世紀', '運動'], ['文學', '小說', '手法'], ['帶來', '公司', '有價證券'], ['美國', '國內', '貸款'], ['現象', '性質', '整體'], ['危機', '國家', '簡稱'], ['網路', '貨幣', '稱為'], ['運動', '雨傘', '佔領'], ['服務', '網路', 'Yahoo'], ['網路', '媒體', '台灣'], ['東洋', '牛蒡', '牛鞭'], ['歷史', '朝代', '建都'], ['沛縣', '平民', '出身'], ['北涼', '歐亞大陸', '遊牧'], ['氣體', '厭氧', '產生'], ['越南', '現是', '直轄市'], ['莫斯科', '二多', '伊斯坦堡'], ['物質', '形態', '四態'], ['反應', '聚變', '過程'], ['聖座', '天主教', '教宗'], ['源頭', '計算', '總長度'], ['簡稱', '位於', '中華'], ['安撫', '幼安', '號稼軒'], ['琴身', '發聲', '振動'], ['東坡', '學士', '嘉佑'], ['利亞', '俄羅斯', '蒙古國'], ['歐洲', '主權國家', '位於'], ['行政區', '紐約', '哈林'], ['廣東省', '香港島', '北接'], ['國家', '北歐', '陸地'], ['俄國', '臨時', '政府'], ['韓國', '朝鮮', '位於'], ['蘇丹', '埃及', '源頭'], ['簡稱', '美國', '別名'], ['美國', '位於', '伊利諾州'], ['位於', '美國', '該州'], ['什麼', '重視', '人類'], ['博物館', '不列顛', '位於'], ['中國', '大國', '通稱'], ['什麼', '飛彈', '裂變'], ['效應', '行星', '大氣層'], ['國際', '各國', '主權國家'], ['島嶼', '位於', '威靈頓'], ['鹿特丹', '海牙', '位於'], ['國家', '非洲', '位於'], ['臺灣', '導演', '飲食男女'], ['美國', '加利福尼亞州', '涼爽'], ['戰國', '家康', '時代'], ['激素', '分泌', '男性'], ['語言', '義大利', '羅馬'], ['美國', '位於', '海軍'], ['生產', '行動', '通訊'], ['處理器', '晶片', '安迪'], ['大學', '臺北', '帝國'], ['位於', '三大', '宗教'], ['馬特', '以色列', '城市'], ['四川', '中華', '共和國'], ['位於', '西亞', '主權國家'], ['雲南', '人類', '簡稱'], ['廣東話', '廣州', '兩廣'], ['反應', '出現', '綜合症'], ['義大利', '阿爾卑斯山', '奧地利']]\n"
          ],
          "name": "stdout"
        }
      ]
    },
    {
      "cell_type": "code",
      "metadata": {
        "id": "cLp7LCkblvdR",
        "colab_type": "code",
        "colab": {}
      },
      "source": [
        ""
      ],
      "execution_count": 0,
      "outputs": []
    },
    {
      "cell_type": "code",
      "metadata": {
        "id": "UdeVeXqImYjA",
        "colab_type": "code",
        "colab": {}
      },
      "source": [
        "QUESTION_KEYWORD_THRESHOLD = 2.5\n",
        "def find_question_keywords(splited_question):\n",
        "    keywords = {}\n",
        "    for each in splited_question:\n",
        "        score = tf_idf(each, splited_question, WIKI)\n",
        "        if score > QUESTION_KEYWORD_THRESHOLD:\n",
        "            keywords[each] = score\n",
        "    return keywords\n",
        "def two_term_interaction_freq(option_term, qestion_keyword, keyword_weight):\n",
        "    try:\n",
        "      interaction_freq = len(WIKI[option_term] & WIKI[qestion_keyword])\n",
        "    except:\n",
        "      interaction_freq=0\n",
        "    score = interaction_freq * keyword_weight\n",
        "    \n",
        "    \n",
        "    return score\n",
        "def solve_method_two(splited_question_dict):\n",
        "    splited_question_dict = splited_question_dict.copy()\n",
        "    keywords = find_question_keywords(splited_question_dict.pop(\"Question\"))\n",
        "    scores = {}\n",
        "    for option, option_term in splited_question_dict.items():\n",
        "        scores[option] = 0\n",
        "        for keyword, keyword_weight in keywords.items():\n",
        "            scores[option] += two_term_interaction_freq(option_term, keyword, keyword_weight)\n",
        "    percentage_scores = {}\n",
        "    for option in splited_question_dict:\n",
        "        percentage_scores[option] = scores[option] / sum(scores.values())\n",
        "    return percentage_scores"
      ],
      "execution_count": 0,
      "outputs": []
    },
    {
      "cell_type": "code",
      "metadata": {
        "id": "ya6C2hS3uoEw",
        "colab_type": "code",
        "colab": {}
      },
      "source": [
        "import json\n",
        "ans=[]\n",
        "with open('Final_Questions.json', 'r', encoding='UTF-8') as f:\n",
        "\tJsonList = json.load(f)\n",
        "for article in list(JsonList)[0:]:\n",
        "  ans.append(solve_method_two(article))\n",
        "\n"
      ],
      "execution_count": 0,
      "outputs": []
    },
    {
      "cell_type": "code",
      "metadata": {
        "id": "PdhtpjrV0UZa",
        "colab_type": "code",
        "outputId": "baaddcbf-17db-4ac4-bd0f-d251024129d1",
        "colab": {
          "base_uri": "https://localhost:8080/",
          "height": 1000
        }
      },
      "source": [
        "i=0\n",
        "tf_idf_ans=[]\n",
        "tf_idf_error=[]\n",
        "for article in list(JsonList)[0:]:\n",
        "  \n",
        "  A=ans[i][\"A\"]\n",
        "  B=ans[i][\"B\"]\n",
        "  C=ans[i][\"C\"]\n",
        "  \n",
        "  print((i+1),\".\",\"A=\",A,\"B=\",B,\"C=\",C)\n",
        "  if A==0 and B==0 and C==0:\n",
        "    print(\"-----------------------------------------------------\")\n",
        "    tf_idf_error.append(i+1)\n",
        "  \n",
        "  i+=1\n",
        "  if A>=B and A>=C :\n",
        "    tf_idf_ans.append(\"A\")\n",
        "    \"\"\"\n",
        "    if article[\"Answer : \"]=='A':\n",
        "      s+=1\n",
        "      print(\" right\")\n",
        "    \"\"\"\n",
        "  elif B>=A and B>=C :\n",
        "    tf_idf_ans.append(\"B\")\n",
        "    \"\"\"\n",
        "    if article[\"Answer : \"]=='B':\n",
        "      s+=1\n",
        "      print(\" right\")\n",
        "    \"\"\"\n",
        "  elif C>=A and C>=B :\n",
        "    tf_idf_ans.append(\"C\")\n",
        "    \"\"\"\n",
        "    if article[\"Answer : \"]=='C':\n",
        "      s+=1\n",
        "      print(\" right\")\n",
        "  print(\"Ans=\",article[\"Answer : \"])\n",
        "    \"\"\"\n",
        "print(\"TF_IDF_ANS=\",json.dumps(tf_idf_ans))\n",
        "print(\"tf_idf_error=\",tf_idf_error)\n",
        "\n"
      ],
      "execution_count": 0,
      "outputs": [
        {
          "output_type": "stream",
          "text": [
            "1 . A= 0.03110517697252181 B= 0.1094356563327238 C= 0.003303859741596705\n",
            "2 . A= 0.0 B= 0.0 C= 0.15996049447874605\n",
            "3 . A= 0.004799283468909586 B= 0.008605056121268311 C= 0.0\n",
            "4 . A= 0.16219689904966647 B= 0.044683017281270804 C= 0.003251503472624773\n",
            "5 . A= 0.13571589381396984 B= 0.0552579955246856 C= 0.48958487781084525\n",
            "6 . A= 0.3029352691126324 B= 0.29040574831719135 C= 0.026418710785531346\n",
            "7 . A= 0.11275370961702467 B= 0.12754780617081216 C= 0.21411390864577817\n",
            "8 . A= 0.09580512904193074 B= 0.03272910779118555 C= 0.033165927508776234\n",
            "9 . A= 0.0 B= 0.030132462098297275 C= 0.0\n",
            "10 . A= 0.08529756939317094 B= 0.03288202138672072 C= 0.06546550427257387\n",
            "11 . A= 0.2827196504516725 B= 0.0757798702468193 C= 0.01780759891259134\n",
            "12 . A= 0.05064271731879696 B= 0.4759013594492234 C= 0.39503953945168757\n",
            "13 . A= 0.020074085608295378 B= 0.4048180585008131 C= 0.11213039108276934\n",
            "14 . A= 0.0038578988328439303 B= 0.01621046440554976 C= 0.0\n",
            "15 . A= 0.005852508089972999 B= 0.0 C= 0.0\n",
            "16 . A= 0.0 B= 0.0055443119291542445 C= 0.0009905963110054814\n",
            "17 . A= 0.000720007903458288 B= 0.0 C= 0.0\n",
            "18 . A= 0.0 B= 0.0002925047910815469 C= 0.024995716377733342\n",
            "19 . A= 0.0 B= 0.0010236876582726136 C= 0.0003671098149541226\n",
            "20 . A= 0.0 B= 0.0001254854397347812 C= 0.0\n",
            "21 . A= 0.0 B= 0.0 C= 0.014943139908894204\n",
            "22 . A= 0.0006869844720925028 B= 0.0 C= 0.0\n",
            "23 . A= 0.0 B= 0.00033256759905610765 C= 0.003103794465430632\n",
            "24 . A= 0.00047930067080581904 B= 0.0 C= 0.0\n",
            "25 . A= 0.0024954597678590977 B= 0.0 C= 0.001902848334305679\n",
            "26 . A= 0.004184805288874956 B= 0.0 C= 0.005215848189537582\n",
            "27 . A= 0.11550499206229135 B= 0.2755361202814995 C= 0.11421552504608229\n",
            "28 . A= 0.01781895779841197 B= 0.003150961251152087 C= 0.03778016800162007\n",
            "29 . A= 0.09635091414832651 B= 0.0036152595028521445 C= 0.0008617332020461415\n",
            "30 . A= 0.15178761878773234 B= 0.06723027695531193 C= 0.0015305226473702482\n",
            "31 . A= 0.05081392530234382 B= 0.1182234243567553 C= 0.33947928753173123\n",
            "32 . A= 0.00918731726604521 B= 0.08500498467776647 C= 0.07405795966271034\n",
            "33 . A= 0.0 B= 0.0 C= 0.0022708418137488053\n",
            "34 . A= 0.0007975712809425645 B= 0.07241703945544825 C= 0.00191973856672437\n",
            "35 . A= 0.0 B= 0.0007732426207693884 C= 0.0\n",
            "36 . A= 0.17424212613867024 B= 0.0047297774195913635 C= 0.0035067496322099792\n",
            "37 . A= 0.0009827740289833895 B= 0.000624139524603699 C= 0.003803238087208744\n",
            "38 . A= 0.0 B= 0.0003662348595131553 C= 0.0005759527455057835\n",
            "39 . A= 0.0 B= 0.011153020210506537 C= 0.0\n",
            "40 . A= 0.0007148125544366366 B= 0.0 C= 0.0005285892222356103\n",
            "41 . A= 0.0 B= 0.0010573727479444457 C= 0.15056960910929817\n",
            "42 . A= 0.0 B= 0.02973450373906915 C= 0.00047856734531564365\n",
            "43 . A= 0.0019802169433402613 B= 0.0 C= 0.0\n",
            "44 . A= 0.0 B= 0.0 C= 0.00759044274342824\n",
            "45 . A= 0.00033913832663310344 B= 0.0 C= 0.0\n",
            "46 . A= 0.005685665824316046 B= 0.0006452464018434049 C= 0.027516886954809902\n",
            "47 . A= 0.0022729723788877444 B= 0.00011844635770281288 C= 0.0026530772633726594\n",
            "48 . A= 0.0 B= 0.0746328034088412 C= 0.0\n",
            "49 . A= 0.05509705240902394 B= 0.11986657682552992 C= 0.02495547824556745\n",
            "50 . A= 0.36720884174741064 B= 0.239182489945541 C= 0.09761663324923234\n",
            "51 . A= 0.031374454551937846 B= 0.06163671837434814 C= 0.03347420141667183\n",
            "52 . A= 0.07021190923443472 B= 0.0878322979478081 C= 0.06931472108699017\n",
            "53 . A= 0.09805986083320674 B= 0.1005790262010347 C= 0.3931074495486992\n",
            "54 . A= 0.016497728596667805 B= 0.11301188589997258 C= 0.0430260170735177\n",
            "55 . A= 0.10308539149120508 B= 0.0009590158494246361 C= 0.028211089942371332\n",
            "56 . A= 0.0021813030877479212 B= 0.06368564598248175 C= 0.003415170562043861\n",
            "57 . A= 0.0008844773903452242 B= 0.0026017417226279855 C= 0.010026427416394474\n",
            "58 . A= 0.005521331499312527 B= 0.002650680986655629 C= 0.0011703134403417022\n",
            "59 . A= 0.003941697023941558 B= 0.022115666194568978 C= 0.0\n",
            "60 . A= 0.005938837247984696 B= 0.0031007375353293213 C= 0.04951785919732191\n",
            "61 . A= 0.021259011664524447 B= 0.045806164421053584 C= 0.011131572920189564\n",
            "62 . A= 0.007528882276472085 B= 0.19479837404941333 C= 0.06450513498917715\n",
            "63 . A= 0.02102101102032837 B= 0.028065417254376213 C= 0.8350423260131149\n",
            "64 . A= 0.0 B= 0.0 C= 0.007769882365207672\n",
            "65 . A= 0.0 B= 0.0 C= 0.03450353072932228\n",
            "66 . A= 0.1792576791764211 B= 0.03631767289968881 C= 0.07501418144264393\n",
            "67 . A= 0.016523407395247703 B= 0.017556679262983512 C= 0.04861812305073413\n",
            "68 . A= 0.01361085311861162 B= 0.0 C= 0.13023382180109006\n",
            "69 . A= 0.0 B= 0.01738696798102979 C= 0.0\n",
            "70 . A= 0.1798865475128215 B= 0.007844527431611724 C= 0.10630257504198559\n",
            "71 . A= 0.016304183961124773 B= 0.0038101731752426594 C= 0.03704331737355092\n",
            "72 . A= 0.017183000855929945 B= 0.2841485908112066 C= 0.03876174323557712\n",
            "73 . A= 0.0 B= 0.0 C= 0.0\n",
            "-----------------------------------------------------\n",
            "74 . A= 0.05983718187955782 B= 0.058875808373294286 C= 0.03484461146074737\n",
            "75 . A= 0.005857435330992507 B= 0.018513943177047392 C= 0.0\n",
            "76 . A= 0.5321406225373579 B= 0.05739699267210452 C= 0.23526033052462253\n",
            "77 . A= 0.0 B= 0.11468639340488505 C= 0.009483548107993064\n",
            "78 . A= 0.0 B= 0.0 C= 0.016713616803608583\n",
            "79 . A= 0.0015416365507077276 B= 0.010657390577031708 C= 0.0\n",
            "80 . A= 0.004315047701862806 B= 0.0035562090953982772 C= 0.013763605845731818\n",
            "81 . A= 0.004067988869638033 B= 0.0018384680995655043 C= 0.00018498543114138532\n",
            "82 . A= 0.0005492011181363271 B= 0.0 C= 0.0002586299440490769\n",
            "83 . A= 0.0 B= 0.08504213305014924 C= 0.0\n",
            "84 . A= 0.0020619609547155577 B= 0.00029671604532123774 C= 0.0\n",
            "85 . A= 0.04916638215039588 B= 0.11868619745898147 C= 0.24153063389633628\n",
            "86 . A= 0.0 B= 0.0 C= 0.0\n",
            "-----------------------------------------------------\n",
            "87 . A= 0.0 B= 0.03811911939951139 C= 0.0\n",
            "88 . A= 0.0 B= 0.0 C= 0.1012978556325251\n",
            "89 . A= 0.04576504552728262 B= 0.006745264055069378 C= 0.017389550682555457\n",
            "90 . A= 0.004854728307528066 B= 0.005618768428409478 C= 0.00676047280795409\n",
            "91 . A= 0.0005977579983095625 B= 0.008162073393460353 C= 0.0\n",
            "92 . A= 0.0 B= 0.0 C= 0.0018383950206509656\n",
            "93 . A= 0.014676305470772746 B= 0.0 C= 0.07287048813119881\n",
            "94 . A= 0.0010019170007302665 B= 0.000950738591406152 C= 9.628718362155276e-05\n",
            "95 . A= 0.0 B= 0.0032598258269715824 C= 0.0\n",
            "96 . A= 0.011399318751055746 B= 0.17685099549460076 C= 0.14587829745308858\n",
            "97 . A= 0.011197209144036274 B= 0.001926862515273316 C= 0.0\n",
            "98 . A= 0.0 B= 0.0 C= 0.0011666226909290628\n",
            "99 . A= 0.0 B= 0.0 C= 0.012789878453818012\n",
            "100 . A= 0.0 B= 0.0 C= 0.0\n",
            "-----------------------------------------------------\n",
            "101 . A= 0.00015128151321662546 B= 0.00015128151321662546 C= 0.00030256302643325093\n",
            "102 . A= 0.0 B= 0.0 C= 0.0\n",
            "-----------------------------------------------------\n",
            "103 . A= 0.00036225420417237573 B= 0.001077044633430322 C= 0.0005018344770482671\n",
            "104 . A= 0.011299287338652531 B= 0.0010699806980025536 C= 0.001134634125810364\n",
            "105 . A= 0.0026370359098803367 B= 0.0 C= 0.0\n",
            "106 . A= 0.0002943334320848388 B= 0.0009794764727428231 C= 0.0018558944867793175\n",
            "107 . A= 0.0 B= 0.000764766399310856 C= 0.005290925547932393\n",
            "108 . A= 0.0 B= 0.0 C= 0.0\n",
            "-----------------------------------------------------\n",
            "109 . A= 0.07017040367583996 B= 0.013031112896679537 C= 0.0007030923539144807\n",
            "110 . A= 0.002041321388647541 B= 0.0 C= 0.0\n",
            "111 . A= 0.0 B= 0.0 C= 0.0\n",
            "-----------------------------------------------------\n",
            "112 . A= 0.0 B= 0.1722190955078767 C= 0.0\n",
            "113 . A= 0.0 B= 0.0 C= 0.0\n",
            "-----------------------------------------------------\n",
            "114 . A= 0.00814943052470719 B= 0.029464831929732323 C= 0.0\n",
            "115 . A= 0.0003455606306427875 B= 0.00012787909868845258 C= 0.0\n",
            "116 . A= 0.00028358287975816264 B= 0.0 C= 0.0\n",
            "117 . A= 0.0008857813404564262 B= 0.0 C= 0.004204875775232233\n",
            "118 . A= 0.0 B= 0.0 C= 0.0015368346584170966\n",
            "119 . A= 0.0 B= 0.0011805805389580363 C= 0.0\n",
            "120 . A= 0.0 B= 0.0 C= 0.0\n",
            "-----------------------------------------------------\n",
            "121 . A= 0.0002727108713045989 B= 0.08593424401164491 C= 0.019360731241957183\n",
            "122 . A= 0.010646440745759265 B= 0.021898891404574794 C= 0.009180053234165934\n",
            "123 . A= 0.0008508720483408346 B= 0.06664063311041594 C= 0.0\n",
            "124 . A= 0.009557550004679225 B= 0.004198503834669163 C= 0.05030581490990842\n",
            "125 . A= 0.0 B= 0.00030273385508037143 C= 0.0012731460928892028\n",
            "126 . A= 0.0002083754217330486 B= 0.0 C= 0.003468216954752627\n",
            "127 . A= 0.23914946307270563 B= 0.3189804822248922 C= 0.1453034129636109\n",
            "128 . A= 0.1724777150742736 B= 0.0 C= 0.027637499342345564\n",
            "129 . A= 0.08593225278090384 B= 0.024063232155273857 C= 0.036763898050748714\n",
            "130 . A= 0.050222594116082916 B= 0.0015612520444233983 C= 0.016172279875619557\n",
            "131 . A= 0.01277616269529167 B= 0.011680527887201727 C= 0.09935999104192005\n",
            "132 . A= 0.0 B= 0.006211917411506791 C= 0.0\n",
            "133 . A= 0.02508285150626861 B= 0.0015244492704680132 C= 0.0\n",
            "134 . A= 0.021659032946762333 B= 0.0007362142742853946 C= 0.0254292548914129\n",
            "135 . A= 0.04787676816817483 B= 0.016089881494202134 C= 0.020005842542640324\n",
            "136 . A= 0.0 B= 0.001023130529882813 C= 0.0\n",
            "137 . A= 0.0030819119015766043 B= 0.0 C= 0.007447352318015297\n",
            "138 . A= 0.07740150613497085 B= 0.003495866643743698 C= 0.0\n",
            "139 . A= 0.012918214562804798 B= 0.0 C= 0.02097762556503597\n",
            "140 . A= 0.5552817235151202 B= 0.41177411060994745 C= 0.03294416587493243\n",
            "141 . A= 0.13617573911638237 B= 0.039080957712383076 C= 0.011275550693925575\n",
            "142 . A= 0.018037789149792184 B= 0.020396835688086642 C= 0.006146211214157083\n",
            "143 . A= 0.0026752266079133184 B= 0.0 C= 0.0\n",
            "144 . A= 0.002566242254431886 B= 0.0 C= 0.0\n",
            "145 . A= 0.057563036352142896 B= 0.0049869201019400525 C= 0.0019105233613196247\n",
            "146 . A= 0.00736310274156285 B= 0.0018768072708931893 C= 0.04168002590495853\n",
            "147 . A= 0.0 B= 0.003121440931618709 C= 0.0015595021496992436\n",
            "148 . A= 0.0019142772661718465 B= 0.0 C= 0.0\n",
            "149 . A= 0.003915838242687622 B= 0.006696000389881159 C= 0.007668306198221751\n",
            "150 . A= 0.04624616449279265 B= 0.16805587619268905 C= 0.3403151369092006\n",
            "151 . A= 0.17981532839986497 B= 0.11334319177015341 C= 0.03436646821279508\n",
            "152 . A= 0.21402202584653734 B= 0.13753960700053805 C= 0.08358917044397411\n",
            "153 . A= 0.10422040561918756 B= 0.10755452201009291 C= 0.059055792977346144\n",
            "154 . A= 0.03098308483291242 B= 0.14743513841318248 C= 0.07443987632281827\n",
            "155 . A= 0.07506133388711582 B= 0.30539716432697617 C= 0.09580071515272029\n",
            "156 . A= 0.029812301340202577 B= 0.005643694446582388 C= 0.0030494045388478083\n",
            "157 . A= 0.05205088272458186 B= 0.026040790247947306 C= 0.0\n",
            "158 . A= 0.0015777049461872777 B= 0.036109619299890004 C= 0.43868940201794043\n",
            "159 . A= 0.03764535241230876 B= 0.08040916022942185 C= 0.1115064602488873\n",
            "160 . A= 0.1553250494863318 B= 0.059796982613796006 C= 0.03268947310395054\n",
            "161 . A= 0.01687421537734552 B= 0.04849659180717337 C= 0.04281151175497496\n",
            "162 . A= 0.003759715352362015 B= 0.026925989297336337 C= 0.09774312162128414\n",
            "163 . A= 0.08471223960307331 B= 0.039386037347276436 C= 0.0026660491436217566\n",
            "164 . A= 0.296148638056225 B= 0.017916873746834625 C= 0.12022178088747246\n",
            "165 . A= 0.22500037175495322 B= 0.06325436097921416 C= 0.10871527723698662\n",
            "166 . A= 0.08097007815874142 B= 0.0 C= 0.03608285214092716\n",
            "167 . A= 0.10186636828115145 B= 0.6878618531391406 C= 0.000703516451906107\n",
            "168 . A= 0.0923123738035478 B= 0.07209254597231662 C= 0.033556025960386565\n",
            "169 . A= 0.007742803594774841 B= 0.02655625479295786 C= 0.5800441592280289\n",
            "170 . A= 0.038924384412807995 B= 0.2918520245913869 C= 0.3362485772914441\n",
            "171 . A= 0.03713280938587696 B= 0.2567479133363038 C= 0.05040502997057379\n",
            "172 . A= 0.1703941685325334 B= 0.04308222981322433 C= 0.23716108146478962\n",
            "173 . A= 0.08873199958881761 B= 0.3471413942441948 C= 0.0\n",
            "174 . A= 0.043330349338923234 B= 0.0 C= 0.205549731161879\n",
            "175 . A= 0.44384459643223495 B= 0.0067734091508565245 C= 0.05582492173766397\n",
            "176 . A= 0.04928371535744051 B= 0.0 C= 0.05006020416206095\n",
            "177 . A= 0.034610324742957256 B= 0.4647112894348891 C= 0.14609312581560074\n",
            "178 . A= 0.010640426446578477 B= 0.0 C= 0.16868625151379527\n",
            "179 . A= 0.020084600954886334 B= 7.177144354752685e-05 C= 0.0011680721257747335\n",
            "180 . A= 0.04572084882848352 B= 0.3596699336982782 C= 0.03645628604125792\n",
            "181 . A= 0.028268687494483937 B= 0.2317195000225821 C= 0.3160042709802347\n",
            "182 . A= 0.008650861860120746 B= 0.2117110009683167 C= 0.34299684142808123\n",
            "183 . A= 0.25001252799135587 B= 0.010549814276750117 C= 0.19460651228980308\n",
            "184 . A= 0.013478059753327148 B= 0.0015955971519045315 C= 0.005473046780038427\n",
            "185 . A= 0.054794081218489527 B= 0.08633525124076834 C= 0.08942830331465401\n",
            "186 . A= 0.1094433373707317 B= 0.000443258879444439 C= 0.0043073444416570576\n",
            "187 . A= 0.23319310082776223 B= 0.0 C= 0.02550020475620009\n",
            "188 . A= 0.11419331213187606 B= 0.14042138338142873 C= 0.01531367564195878\n",
            "189 . A= 0.018771302393695875 B= 0.14246427444090218 C= 0.02220541000941673\n",
            "190 . A= 0.0739679841813251 B= 0.02273696998333476 C= 0.0\n",
            "191 . A= 0.04110127306069054 B= 0.03719948307004337 C= 0.06666239921074588\n",
            "192 . A= 0.0011536267427913833 B= 0.0 C= 0.10713350730740671\n",
            "193 . A= 0.0 B= 0.009090884385545658 C= 0.15458905838147913\n",
            "194 . A= 0.02250408234146094 B= 0.002085066509358375 C= 0.0\n",
            "195 . A= 0.23273956407257532 B= 0.07571235041330181 C= 0.1155039399538498\n",
            "196 . A= 0.39860921563957613 B= 0.13981030228879454 C= 0.035866527304562155\n",
            "197 . A= 0.035905283219493864 B= 0.1519836801814181 C= 0.08180526220322604\n",
            "198 . A= 0.18204692557328106 B= 0.2089645967349919 C= 0.13275845472643116\n",
            "199 . A= 0.0 B= 0.006328834574199535 C= 0.04634449949560703\n",
            "200 . A= 0.011092441909767662 B= 0.07982811746010497 C= 0.0037622888676152005\n",
            "TF_IDF_ANS= [\"B\", \"C\", \"B\", \"A\", \"C\", \"A\", \"C\", \"A\", \"B\", \"A\", \"A\", \"B\", \"B\", \"B\", \"A\", \"B\", \"A\", \"C\", \"B\", \"B\", \"C\", \"A\", \"C\", \"A\", \"A\", \"C\", \"B\", \"C\", \"A\", \"A\", \"C\", \"B\", \"C\", \"B\", \"B\", \"A\", \"C\", \"C\", \"B\", \"A\", \"C\", \"B\", \"A\", \"C\", \"A\", \"C\", \"C\", \"B\", \"B\", \"A\", \"B\", \"B\", \"C\", \"B\", \"A\", \"B\", \"C\", \"A\", \"B\", \"C\", \"B\", \"B\", \"C\", \"C\", \"C\", \"A\", \"C\", \"C\", \"B\", \"A\", \"C\", \"B\", \"A\", \"A\", \"B\", \"A\", \"B\", \"C\", \"B\", \"C\", \"A\", \"A\", \"B\", \"A\", \"C\", \"A\", \"B\", \"C\", \"A\", \"C\", \"B\", \"C\", \"C\", \"A\", \"B\", \"B\", \"A\", \"C\", \"C\", \"A\", \"C\", \"A\", \"B\", \"A\", \"A\", \"C\", \"C\", \"A\", \"A\", \"A\", \"A\", \"B\", \"A\", \"B\", \"A\", \"A\", \"C\", \"C\", \"B\", \"A\", \"B\", \"B\", \"B\", \"C\", \"C\", \"C\", \"B\", \"A\", \"A\", \"A\", \"C\", \"B\", \"A\", \"C\", \"A\", \"B\", \"C\", \"A\", \"C\", \"A\", \"A\", \"B\", \"A\", \"A\", \"A\", \"C\", \"B\", \"A\", \"C\", \"C\", \"A\", \"A\", \"B\", \"B\", \"B\", \"A\", \"A\", \"C\", \"C\", \"A\", \"B\", \"C\", \"A\", \"A\", \"A\", \"A\", \"B\", \"A\", \"C\", \"C\", \"B\", \"C\", \"B\", \"C\", \"A\", \"C\", \"B\", \"C\", \"A\", \"B\", \"C\", \"C\", \"A\", \"A\", \"C\", \"A\", \"A\", \"B\", \"B\", \"A\", \"C\", \"C\", \"C\", \"A\", \"A\", \"A\", \"B\", \"B\", \"C\", \"B\"]\n",
            "tf_idf_error= [73, 86, 100, 102, 108, 111, 113, 120]\n"
          ],
          "name": "stdout"
        }
      ]
    },
    {
      "cell_type": "code",
      "metadata": {
        "id": "SLcD72c-0mNn",
        "colab_type": "code",
        "outputId": "0ac62633-5e27-4375-8191-edc681596ed1",
        "colab": {
          "base_uri": "https://localhost:8080/",
          "height": 54
        }
      },
      "source": [
        "print(json.dumps(tf_idf_ans))"
      ],
      "execution_count": 0,
      "outputs": [
        {
          "output_type": "stream",
          "text": [
            "[\"B\", \"C\", \"B\", \"A\", \"C\", \"A\", \"C\", \"A\", \"B\", \"A\", \"A\", \"B\", \"B\", \"B\", \"A\", \"B\", \"A\", \"C\", \"B\", \"B\", \"C\", \"A\", \"C\", \"A\", \"A\", \"C\", \"B\", \"C\", \"A\", \"A\", \"C\", \"B\", \"C\", \"B\", \"B\", \"A\", \"C\", \"C\", \"B\", \"A\", \"C\", \"B\", \"A\", \"C\", \"A\", \"C\", \"C\", \"B\", \"B\", \"A\", \"B\", \"B\", \"C\", \"B\", \"A\", \"B\", \"C\", \"A\", \"B\", \"C\", \"B\", \"B\", \"C\", \"C\", \"C\", \"A\", \"C\", \"C\", \"B\", \"A\", \"C\", \"B\", \"A\", \"A\", \"B\", \"A\", \"B\", \"C\", \"B\", \"C\", \"A\", \"A\", \"B\", \"A\", \"C\", \"A\", \"B\", \"C\", \"A\", \"C\", \"B\", \"C\", \"C\", \"A\", \"B\", \"B\", \"A\", \"C\", \"C\", \"A\", \"C\", \"A\", \"B\", \"A\", \"A\", \"C\", \"C\", \"A\", \"A\", \"A\", \"A\", \"B\", \"A\", \"B\", \"A\", \"A\", \"C\", \"C\", \"B\", \"A\", \"B\", \"B\", \"B\", \"C\", \"C\", \"C\", \"B\", \"A\", \"A\", \"A\", \"C\", \"B\", \"A\", \"C\", \"A\", \"B\", \"C\", \"A\", \"C\", \"A\", \"A\", \"B\", \"A\", \"A\", \"A\", \"C\", \"B\", \"A\", \"C\", \"C\", \"A\", \"A\", \"B\", \"B\", \"B\", \"A\", \"A\", \"C\", \"C\", \"A\", \"B\", \"C\", \"A\", \"A\", \"A\", \"A\", \"B\", \"A\", \"C\", \"C\", \"B\", \"C\", \"B\", \"C\", \"A\", \"C\", \"B\", \"C\", \"A\", \"B\", \"C\", \"C\", \"A\", \"A\", \"C\", \"A\", \"A\", \"B\", \"B\", \"A\", \"C\", \"C\", \"C\", \"A\", \"A\", \"A\", \"B\", \"B\", \"C\", \"B\"]\n"
          ],
          "name": "stdout"
        }
      ]
    },
    {
      "cell_type": "code",
      "metadata": {
        "id": "1USd6DRTLP5A",
        "colab_type": "code",
        "colab": {}
      },
      "source": [
        ""
      ],
      "execution_count": 0,
      "outputs": []
    },
    {
      "cell_type": "markdown",
      "metadata": {
        "id": "AAH6TlwX2Wmy",
        "colab_type": "text"
      },
      "source": [
        "#TF-IDF人工區"
      ]
    },
    {
      "cell_type": "markdown",
      "metadata": {
        "id": "VnQ2McUK2muo",
        "colab_type": "text"
      },
      "source": [
        "###查題目用"
      ]
    },
    {
      "cell_type": "code",
      "metadata": {
        "id": "gs50J4Zm2j5U",
        "colab_type": "code",
        "colab": {}
      },
      "source": [
        "\n",
        "f = open(\"Final_Questions.json\",\"r\",encoding='UTF-8')\n",
        "objects = ijson.items(f, 'item')\n",
        "\n",
        "s_number=1  # 要查的題目起始編號\n",
        "i=s_number\n",
        "end_number=33  #要查的題目終端編號\n",
        "\n",
        "for article in list(objects)[(s_number-1):(end_number)]:\n",
        "  print((i),\".\",article[\"Question\"]),\n",
        "  print(\"A\",article[\"A\"]),\n",
        "  print(\"B\",article[\"B\"]),\n",
        "  print(\"C\",article[\"C\"]),\n",
        "  print(\"ANS:\",tf_idf_ans[i-1]),\n",
        "  print(\"\\n\")\n",
        "  i+=1\n"
      ],
      "execution_count": 0,
      "outputs": []
    },
    {
      "cell_type": "markdown",
      "metadata": {
        "id": "71Zw8WSG2toD",
        "colab_type": "text"
      },
      "source": [
        "###人工閱卷改答案"
      ]
    },
    {
      "cell_type": "code",
      "metadata": {
        "id": "MUyWIylR2jo1",
        "colab_type": "code",
        "outputId": "1a8eefcc-c794-414a-e94c-15722a902d47",
        "colab": {
          "base_uri": "https://localhost:8080/",
          "height": 54
        }
      },
      "source": [
        "number=1       #要改的題號 \n",
        "#tf_idf_ans[(number-1)] =\"B\" #要改的答案\n",
        "print(json.dumps(tf_idf_ans))\n"
      ],
      "execution_count": 0,
      "outputs": [
        {
          "output_type": "stream",
          "text": [
            "[\"B\", \"C\", \"B\", \"A\", \"C\", \"A\", \"C\", \"A\", \"B\", \"A\", \"A\", \"B\", \"B\", \"B\", \"A\", \"B\", \"A\", \"C\", \"B\", \"B\", \"C\", \"A\", \"C\", \"A\", \"A\", \"C\", \"B\", \"C\", \"A\", \"A\", \"C\", \"B\", \"C\", \"B\", \"B\", \"A\", \"C\", \"C\", \"B\", \"A\", \"C\", \"B\", \"A\", \"C\", \"A\", \"C\", \"C\", \"B\", \"B\", \"A\", \"B\", \"B\", \"C\", \"B\", \"A\", \"B\", \"C\", \"A\", \"B\", \"C\", \"B\", \"B\", \"C\", \"C\", \"C\", \"A\", \"C\", \"C\", \"B\", \"A\", \"C\", \"B\", \"A\", \"A\", \"B\", \"A\", \"B\", \"C\", \"B\", \"C\", \"A\", \"A\", \"B\", \"A\", \"C\", \"A\", \"B\", \"C\", \"A\", \"C\", \"B\", \"C\", \"C\", \"A\", \"B\", \"B\", \"A\", \"C\", \"C\", \"A\", \"C\", \"A\", \"B\", \"A\", \"A\", \"C\", \"C\", \"A\", \"A\", \"A\", \"A\", \"B\", \"A\", \"B\", \"A\", \"A\", \"C\", \"C\", \"B\", \"A\", \"B\", \"B\", \"B\", \"C\", \"C\", \"C\", \"B\", \"A\", \"A\", \"A\", \"C\", \"B\", \"A\", \"C\", \"A\", \"B\", \"C\", \"A\", \"C\", \"A\", \"A\", \"B\", \"A\", \"A\", \"A\", \"C\", \"B\", \"A\", \"C\", \"C\", \"A\", \"A\", \"B\", \"B\", \"B\", \"A\", \"A\", \"C\", \"C\", \"A\", \"B\", \"C\", \"A\", \"A\", \"A\", \"A\", \"B\", \"A\", \"C\", \"C\", \"B\", \"C\", \"B\", \"C\", \"A\", \"C\", \"B\", \"C\", \"A\", \"B\", \"C\", \"C\", \"A\", \"A\", \"C\", \"A\", \"A\", \"B\", \"B\", \"A\", \"C\", \"C\", \"C\", \"A\", \"A\", \"A\", \"B\", \"B\", \"C\", \"B\"]\n"
          ],
          "name": "stdout"
        }
      ]
    },
    {
      "cell_type": "markdown",
      "metadata": {
        "id": "6s3KXV9pHpkW",
        "colab_type": "text"
      },
      "source": [
        "#兩個方法合併"
      ]
    },
    {
      "cell_type": "markdown",
      "metadata": {
        "id": "fRijSvr0Kh80",
        "colab_type": "text"
      },
      "source": [
        "##詞頻的答案:\n"
      ]
    },
    {
      "cell_type": "code",
      "metadata": {
        "id": "UdiaIiuaKkVd",
        "colab_type": "code",
        "outputId": "813f6e76-abb4-4f65-9e53-ecf1f0f8d79e",
        "colab": {
          "base_uri": "https://localhost:8080/",
          "height": 54
        }
      },
      "source": [
        "print(json.dumps(f_ans))"
      ],
      "execution_count": 0,
      "outputs": [
        {
          "output_type": "stream",
          "text": [
            "[\"B\", \"C\", \"B\", \"A\", \"C\", \"B\", \"C\", \"A\", \"B\", \"A\", \"A\", \"B\", \"B\", \"B\", \"A\", \"B\", \"A\", \"C\", \"B\", \"B\", \"C\", \"A\", \"C\", \"B\", \"A\", \"A\", \"B\", \"C\", \"A\", \"A\", \"C\", \"B\", \"C\", \"B\", \"A\", \"A\", \"B\", \"B\", \"B\", \"C\", \"C\", \"B\", \"A\", \"C\", \"A\", \"C\", \"C\", \"B\", \"B\", \"B\", \"B\", \"B\", \"C\", \"B\", \"A\", \"B\", \"C\", \"A\", \"B\", \"C\", \"B\", \"B\", \"C\", \"C\", \"C\", \"A\", \"C\", \"C\", \"B\", \"A\", \"C\", \"B\", \"B\", \"B\", \"B\", \"A\", \"B\", \"C\", \"B\", \"A\", \"B\", \"A\", \"B\", \"A\", \"C\", \"B\", \"A\", \"C\", \"A\", \"C\", \"B\", \"C\", \"C\", \"A\", \"B\", \"B\", \"A\", \"C\", \"C\", \"A\", \"C\", \"A\", \"A\", \"A\", \"A\", \"C\", \"C\", \"A\", \"A\", \"A\", \"A\", \"B\", \"A\", \"B\", \"A\", \"A\", \"C\", \"C\", \"B\", \"A\", \"B\", \"B\", \"B\", \"C\", \"C\", \"C\", \"B\", \"A\", \"A\", \"A\", \"C\", \"B\", \"A\", \"A\", \"A\", \"B\", \"C\", \"A\", \"A\", \"A\", \"A\", \"A\", \"A\", \"A\", \"A\", \"C\", \"B\", \"A\", \"B\", \"C\", \"B\", \"A\", \"A\", \"C\", \"B\", \"A\", \"A\", \"C\", \"C\", \"A\", \"B\", \"C\", \"A\", \"A\", \"C\", \"A\", \"B\", \"A\", \"C\", \"C\", \"B\", \"B\", \"B\", \"C\", \"A\", \"A\", \"B\", \"C\", \"A\", \"B\", \"C\", \"C\", \"C\", \"A\", \"B\", \"A\", \"A\", \"B\", \"B\", \"A\", \"C\", \"C\", \"C\", \"A\", \"A\", \"A\", \"B\", \"B\", \"C\", \"B\"]\n"
          ],
          "name": "stdout"
        }
      ]
    },
    {
      "cell_type": "markdown",
      "metadata": {
        "id": "MD1TwgzKKeKQ",
        "colab_type": "text"
      },
      "source": [
        "##tf-idf的答案:"
      ]
    },
    {
      "cell_type": "code",
      "metadata": {
        "id": "qHUi3eWZKc_E",
        "colab_type": "code",
        "outputId": "19427c12-091e-4a59-ba66-75924852fc90",
        "colab": {
          "base_uri": "https://localhost:8080/",
          "height": 54
        }
      },
      "source": [
        "print(json.dumps(tf_idf_ans))"
      ],
      "execution_count": 0,
      "outputs": [
        {
          "output_type": "stream",
          "text": [
            "[\"B\", \"C\", \"B\", \"A\", \"C\", \"A\", \"C\", \"A\", \"B\", \"A\", \"A\", \"B\", \"B\", \"B\", \"A\", \"B\", \"A\", \"C\", \"B\", \"B\", \"C\", \"A\", \"C\", \"A\", \"A\", \"C\", \"B\", \"C\", \"A\", \"A\", \"C\", \"B\", \"C\", \"B\", \"B\", \"A\", \"C\", \"C\", \"B\", \"A\", \"C\", \"B\", \"A\", \"C\", \"A\", \"C\", \"C\", \"B\", \"B\", \"A\", \"B\", \"B\", \"C\", \"B\", \"A\", \"B\", \"C\", \"A\", \"B\", \"C\", \"B\", \"B\", \"C\", \"C\", \"C\", \"A\", \"C\", \"C\", \"B\", \"A\", \"C\", \"B\", \"A\", \"A\", \"B\", \"A\", \"B\", \"C\", \"B\", \"C\", \"A\", \"A\", \"B\", \"A\", \"C\", \"A\", \"B\", \"C\", \"A\", \"C\", \"B\", \"C\", \"C\", \"A\", \"B\", \"B\", \"A\", \"C\", \"C\", \"A\", \"C\", \"A\", \"B\", \"A\", \"A\", \"C\", \"C\", \"A\", \"A\", \"A\", \"A\", \"B\", \"A\", \"B\", \"A\", \"A\", \"C\", \"C\", \"B\", \"A\", \"B\", \"B\", \"B\", \"C\", \"C\", \"C\", \"B\", \"A\", \"A\", \"A\", \"C\", \"B\", \"A\", \"C\", \"A\", \"B\", \"C\", \"A\", \"C\", \"A\", \"A\", \"B\", \"A\", \"A\", \"A\", \"C\", \"B\", \"A\", \"C\", \"C\", \"A\", \"A\", \"B\", \"B\", \"B\", \"A\", \"A\", \"C\", \"C\", \"A\", \"B\", \"C\", \"A\", \"A\", \"A\", \"A\", \"B\", \"A\", \"C\", \"C\", \"B\", \"C\", \"B\", \"C\", \"A\", \"C\", \"B\", \"C\", \"A\", \"B\", \"C\", \"C\", \"A\", \"A\", \"C\", \"A\", \"A\", \"B\", \"B\", \"A\", \"C\", \"C\", \"C\", \"A\", \"A\", \"A\", \"B\", \"B\", \"C\", \"B\"]\n"
          ],
          "name": "stdout"
        }
      ]
    },
    {
      "cell_type": "markdown",
      "metadata": {
        "id": "zzLTEeyVKxtV",
        "colab_type": "text"
      },
      "source": [
        "###詞頻有問題的題號"
      ]
    },
    {
      "cell_type": "code",
      "metadata": {
        "id": "l7A_5XmkKxXv",
        "colab_type": "code",
        "outputId": "40469b44-a6f9-49d4-f729-c27328ba982c",
        "colab": {
          "base_uri": "https://localhost:8080/",
          "height": 34
        }
      },
      "source": [
        "print(\"f_error=\",f_error)"
      ],
      "execution_count": 0,
      "outputs": [
        {
          "output_type": "stream",
          "text": [
            "f_error= [100, 102, 108, 111, 113, 120]\n"
          ],
          "name": "stdout"
        }
      ]
    },
    {
      "cell_type": "markdown",
      "metadata": {
        "id": "bfYiAi-uKtUk",
        "colab_type": "text"
      },
      "source": [
        "###tf-idf有問題的題號"
      ]
    },
    {
      "cell_type": "code",
      "metadata": {
        "id": "46pvsiWxH3A9",
        "colab_type": "code",
        "outputId": "38df42fc-e66c-40e6-81b4-440046dbb53c",
        "colab": {
          "base_uri": "https://localhost:8080/",
          "height": 34
        }
      },
      "source": [
        "print(\"tf_idf_error=\",tf_idf_error)"
      ],
      "execution_count": 0,
      "outputs": [
        {
          "output_type": "stream",
          "text": [
            "tf_idf_error= [73, 86, 100, 102, 108, 111, 113, 120]\n"
          ],
          "name": "stdout"
        }
      ]
    },
    {
      "cell_type": "markdown",
      "metadata": {
        "id": "waVd3T78LJCF",
        "colab_type": "text"
      },
      "source": [
        "###兩個方法不一樣的部分"
      ]
    },
    {
      "cell_type": "code",
      "metadata": {
        "id": "WoGK9yetHuUC",
        "colab_type": "code",
        "outputId": "e35c6e91-a368-4670-8071-d5a8703866ac",
        "colab": {
          "base_uri": "https://localhost:8080/",
          "height": 513
        }
      },
      "source": [
        "diff=[]\n",
        "j=0\n",
        "for i in tf_idf_ans:\n",
        "  if i != f_ans[j]:\n",
        "    diff.append(j+1)\n",
        "    print(j+1,\".\",\"f_ans=\",f_ans[j],\"tf_idf_ans=\",i)\n",
        "  j+=1\n",
        "\n",
        "print(\"diff=\",diff)"
      ],
      "execution_count": 0,
      "outputs": [
        {
          "output_type": "stream",
          "text": [
            "6 . f_ans= B tf_idf_ans= A\n",
            "24 . f_ans= B tf_idf_ans= A\n",
            "26 . f_ans= A tf_idf_ans= C\n",
            "35 . f_ans= A tf_idf_ans= B\n",
            "37 . f_ans= B tf_idf_ans= C\n",
            "38 . f_ans= B tf_idf_ans= C\n",
            "40 . f_ans= C tf_idf_ans= A\n",
            "50 . f_ans= B tf_idf_ans= A\n",
            "73 . f_ans= B tf_idf_ans= A\n",
            "74 . f_ans= B tf_idf_ans= A\n",
            "80 . f_ans= A tf_idf_ans= C\n",
            "81 . f_ans= B tf_idf_ans= A\n",
            "86 . f_ans= B tf_idf_ans= A\n",
            "87 . f_ans= A tf_idf_ans= B\n",
            "103 . f_ans= A tf_idf_ans= B\n",
            "134 . f_ans= A tf_idf_ans= C\n",
            "139 . f_ans= A tf_idf_ans= C\n",
            "142 . f_ans= A tf_idf_ans= B\n",
            "149 . f_ans= B tf_idf_ans= C\n",
            "151 . f_ans= B tf_idf_ans= A\n",
            "153 . f_ans= A tf_idf_ans= B\n",
            "154 . f_ans= C tf_idf_ans= B\n",
            "165 . f_ans= C tf_idf_ans= A\n",
            "172 . f_ans= B tf_idf_ans= C\n",
            "176 . f_ans= A tf_idf_ans= C\n",
            "183 . f_ans= C tf_idf_ans= A\n",
            "185 . f_ans= B tf_idf_ans= C\n",
            "diff= [6, 24, 26, 35, 37, 38, 40, 50, 73, 74, 80, 81, 86, 87, 103, 134, 139, 142, 149, 151, 153, 154, 165, 172, 176, 183, 185]\n"
          ],
          "name": "stdout"
        }
      ]
    },
    {
      "cell_type": "markdown",
      "metadata": {
        "id": "CvYfmCpuM4SJ",
        "colab_type": "text"
      },
      "source": [
        "##顯示所有有問題的題目"
      ]
    },
    {
      "cell_type": "code",
      "metadata": {
        "id": "uXkgpE_oM37Z",
        "colab_type": "code",
        "outputId": "a9f095da-ccde-4c2e-c2fd-6953ea1c31f5",
        "colab": {
          "base_uri": "https://localhost:8080/",
          "height": 71
        }
      },
      "source": [
        "ALL_ERROR=[]\n",
        "ALL_ERROR+=f_error\n",
        "ALL_ERROR+=tf_idf_error\n",
        "ALL_ERROR+=diff\n",
        "ALL_ERROR=list(set(ALL_ERROR))\n",
        "ALL_ERROR.sort()\n",
        "\n",
        "print(\"ALL_ERROR=\",ALL_ERROR)\n",
        "print(len(ALL_ERROR))\n"
      ],
      "execution_count": 0,
      "outputs": [
        {
          "output_type": "stream",
          "text": [
            "ALL_ERROR= [6, 24, 26, 35, 37, 38, 40, 50, 73, 74, 80, 81, 86, 87, 100, 102, 103, 108, 111, 113, 120, 134, 139, 142, 149, 151, 153, 154, 165, 172, 176, 183, 185]\n",
            "33\n"
          ],
          "name": "stdout"
        }
      ]
    },
    {
      "cell_type": "code",
      "metadata": {
        "id": "jzSNtRX8N0ge",
        "colab_type": "code",
        "outputId": "261dc528-c367-4d3c-fd28-bc0a95889601",
        "colab": {
          "base_uri": "https://localhost:8080/",
          "height": 1000
        }
      },
      "source": [
        "\n",
        "f = open(\"Final_Questions.json\",\"r\",encoding='UTF-8')\n",
        "article = ijson.items(f, 'item')\n",
        "\n",
        "\n",
        "article=list(article)\n",
        "for i in list(ALL_ERROR):\n",
        "  print(str(i),\".\",article[i-1][\"Question\"]),\n",
        "  print(\"A\",article[i-1][\"A\"]),\n",
        "  print(\"B\",article[i-1][\"B\"]),\n",
        "  print(\"C\",article[i-1][\"C\"])\n",
        "  print(\"\\n\")\n",
        "  \n"
      ],
      "execution_count": 0,
      "outputs": [
        {
          "output_type": "stream",
          "text": [
            "6 . 常言道「十年河東，十年河西」這條河指的是?\n",
            "A 黃河\n",
            "B 長江\n",
            "C 淡水河\n",
            "\n",
            "\n",
            "24 . 美國作家法蘭克·赫伯特（Frank Herbert）原創的科幻小說，獲譽為史上最偉大的科幻小說之一\n",
            "A 沙丘系列小說\n",
            "B 貓戰士\n",
            "C 黑暗元素三部曲\n",
            "\n",
            "\n",
            "26 . 下列哪一部是宮崎駿的作品? \n",
            "A 人中之龍\n",
            "B 地獄之王\n",
            "C 天空之城\n",
            "\n",
            "\n",
            "35 . 改編自台灣作家侯文詠同名小說的電視劇，由黃河與溫昇豪等演員參與。\n",
            "A 危險心靈\n",
            "B 在天堂遇見的五個人\n",
            "C 牧羊少年奇幻之旅\n",
            "\n",
            "\n",
            "37 . 金庸所作的武俠小說其中有三部的角色與情節有一部分的連貫性，最後一部為倚天屠龍記，請問這系列合稱為?\n",
            "A 射鵰三部曲\n",
            "B 黑暗精靈三部曲\n",
            "C 大唐雙龍傳\n",
            "\n",
            "\n",
            "38 . 有一系列由美國作家瑪格莉特·魏絲（Margaret Weis）和崔西·西克曼（Tracy Hickman）所寫的，作為龍與地下城戰役背景設定的奇幻小說，這系列小說為何?\n",
            "A 百戰天龍\n",
            "B 潛龍諜影\n",
            "C 龍槍系列小說\n",
            "\n",
            "\n",
            "40 . 一款冒險類獨立遊戲，由thatgamecompany開發，索尼電腦娛樂透過數字下載方式在PlayStation Network發行。並在第16屆D.I.C.E峰會年度頒獎禮獲得了「年度遊戲」、「傑出遊戲創新」、「年度休閒遊戲」等獎項。請問遊戲名字為何?\n",
            "A 風之旅人\n",
            "B 台灣龍捲風\n",
            "C 步步驚心\n",
            "\n",
            "\n",
            "50 . 下列哪個是瑞士的官方語言?\n",
            "A 英語\n",
            "B 中文\n",
            "C 德語\n",
            "\n",
            "\n",
            "73 . 下列哪種袋鼠的體型最大?\n",
            "A 黑大袋鼠\n",
            "B 紅大袋鼠\n",
            "C 綠大袋鼠\n",
            "\n",
            "\n",
            "74 . 無尾熊和袋鼠都是屬於哪一類的動物?\n",
            "A 鼠類\n",
            "B 兩棲類\n",
            "C 有袋類\n",
            "\n",
            "\n",
            "80 . 白曉燕命案為台灣有史以來最重大刑案之一，陳進興、高天民、林春生等三名加害人作案手法殘酷，又於逃亡途中與警方發生數次槍戰並犯下多件刑案，請問白曉燕為何人之女? \n",
            "A 范冰冰\n",
            "B 李冰冰\n",
            "C 白冰冰\n",
            "\n",
            "\n",
            "81 . 仙劍奇俠傳系列是由台灣大宇資訊製作發行的以中國古代神話為背景的中文電腦遊戲，請問甚麼遊戲與仙劍奇俠傳系列並稱「大宇雙劍」?\n",
            "A 軒轅劍系列\n",
            "B 瑪利歐系列\n",
            "C 戰慄時空系列\n",
            "\n",
            "\n",
            "86 . 北野武為電影導演，其自編自導自演一部與他父親相關的電影作品，請問片名叫作?\n",
            "A 我的意外爸爸\n",
            "B 即刻救援3\n",
            "C 菊次郎的夏天\n",
            "\n",
            "\n",
            "87 . 愛滋病的簡稱為何?\n",
            "A ADSL\n",
            "B AIDS\n",
            "C ASUS\n",
            "\n",
            "\n",
            "100 . 日落症候群患者一到日落、傍晚時刻，就開始出現焦躁、躁動、幻覺、甚至產生攻擊傾向，請問該症候群與哪一病症有關?\n",
            "A 舌頭抽筋\n",
            "B 頭髮骨折\n",
            "C 阿茲海默症\n",
            "\n",
            "\n",
            "102 . 情境推理遊戲是一種猜測情境型事件真相的智力遊戲。其玩法係由出題者提出一個難以理解的事件，參與猜題者可以提出任何問題以試圖縮小範圍並找出事件背後真正的原因，但出題者僅能則以「是（對）」、「不是（不對）」或「沒有關係」來回答問題，請問該類遊戲俗稱?\n",
            "A 海龜湯\n",
            "B 海豹湯\n",
            "C 海鳥湯\n",
            "\n",
            "\n",
            "103 . 台灣民間信仰中一種出沒於荒野、山林的精怪。但有時被認為是兒童、婦女或登山者的枉死鬼魂，亦可能指稱其他過渡的信仰複合體，應視事件描述的情形而定，著名例子有紅衣小女孩，請問該鬼怪名為?\n",
            "A 唐家三少\n",
            "B 魔神仔\n",
            "C 山大王\n",
            "\n",
            "\n",
            "108 . 貓膩原名曉峰，2005年開始創作小說《朱雀記》，貓膩的全部小說點擊達1.9億次，推薦1000多萬人次，是寫出多部熱門小說的大神級網絡作家，請問下列何者為其作品?\n",
            "A 天擇記\n",
            "B 擇天記\n",
            "C 一世之尊\n",
            "\n",
            "\n",
            "111 . 楊家正，職業電子競技選手，因曾於WCG賽事中擊敗韓國職業選手，而有了「最強非韓選手」的美譽，擅長種族為蟲族，號稱「台灣蟲王」，請問其擅長哪一款遊戲?\n",
            "A CS:GO\n",
            "B 文明帝國\n",
            "C 星海爭霸系列\n",
            "\n",
            "\n",
            "113 . 有一奧地利物理學者埃爾溫·薛丁格於1935年提出的一個思想實驗。通過這思想實驗，薛丁格指出了應用量子力學的哥本哈根詮釋於宏觀物體會產生的問題，以及這問題與物理常識之間的矛盾，請問該實驗為?\n",
            "A 薛丁格靴子\n",
            "B 薛丁格貓\n",
            "C 薛丁格老鼠\n",
            "\n",
            "\n",
            "120 . 地球第一高峰，屬於喜馬拉雅山脈，位於中國與尼泊爾邊界上。按2005年中國國家測繪局測量的岩面高為8,844.43公尺，其藏語中名為「珠穆朗瑪」意為「大地之母」，請問上述為何?\n",
            "A 聖母峰\n",
            "B 額菲爾士峰\n",
            "C 玉山頂峰\n",
            "\n",
            "\n",
            "134 . 是一個從理論上難以精準下定論的一種概念，因為主要理論家，均反對以各種約定俗成的形式，來界定或者規範其主義。目前，在建築學、文學批評、心理分析學、法律學、教育學、社會學、人類學、政治學等諸多領域，均就當下的後現代境況，提出了自成體系的論述。他們各自都反對以特定方式來繼承固有或者既定的理念。\n",
            "A 維吉爾\n",
            "B 多納圖斯\n",
            "C 後現代主義\n",
            "\n",
            "\n",
            "139 . 是指在17世紀及18世紀歐洲地區發生的一場哲學及文化運動，該運動相信理性發展知識可以解決人類實存的基本問題。啟蒙時代不同於過往以神學權威為主作為知識權威與傳統教條，而是相信理性並敢於求知，認為科學和藝術的知識的理性發展可以改進人類生活。\n",
            "A 愛爾蘭共和國\n",
            "B 不列顛群島\n",
            "C 啟蒙時代\n",
            "\n",
            "\n",
            "142 . 是由美國國內抵押貸款違約和法拍屋急劇增加所引發的金融危機。它對全球各地銀行與金融市場產生了重大的不良後果。\n",
            "A 黑死病\n",
            "B 泡沫經濟\n",
            "C 次貸危機\n",
            "\n",
            "\n",
            "149 . 是菊科牛蒡屬的植物，又名東洋參、東洋牛鞭菜、白肌人參、吳某、吳帽、夜叉頭、牛菜、鼠粘、蒡翁菜、便牽牛、蝙蝠刺、牛旁、便南牛，果實別名惡實、大力子、黑風子、大牛子、鼠粘子、鼠尖子。\n",
            "A 牛蒡\n",
            "B 山藥\n",
            "C 蘆薈\n",
            "\n",
            "\n",
            "151 . 戰國後期楚國沛豐邑中陽里人，中國歷史上第一位平民出身的天子，出身平民階級。從家鄉沛縣起兵反秦，被沛縣蕭何、樊噲等人擁為沛公（即沛令），尊楚懷王。秦亡後，被項羽封為漢中王。\n",
            "A 劉邦\n",
            "B 劉備\n",
            "C 張飛\n",
            "\n",
            "\n",
            "153 . 是一種主要由甲烷組成的氣態化石燃料。它主要存在於油田以及天然氣田，也有少量出於煤層。當非化石的有機物質經過厭氧腐爛時，會產生富含甲烷的氣體，這種氣體就被稱作生物氣體。生物氣的來源地包括森林和草地間的沼澤、垃圾填埋場、下水道中的淤泥、糞肥，由細菌的厭氧分解而產生。\n",
            "A 煤礦\n",
            "B 天然氣\n",
            "C 太陽能\n",
            "\n",
            "\n",
            "154 . 曾是南越首都，現是越南最大的城市，也是越南的五個中央直轄市之一，為越南經濟、貿易、交通及文化中心。該城市現在的名字是為了紀念越南共產主義政權建國領導人、越南勞動黨主席兼越南民主共和國主席胡志明。\n",
            "A 胡志明市\n",
            "B 河內\n",
            "C 曼谷\n",
            "\n",
            "\n",
            "165 . 是一個歐洲主權國家，主要由位於南歐的靴型亞平寧半島及兩個地中海島嶼西西里島與薩丁島所組成。北方的阿爾卑斯山地區與法國、瑞士、奧地利以及斯洛維尼亞接壤。\n",
            "A 義大利\n",
            "B 塞爾維亞\n",
            "C 烏克蘭\n",
            "\n",
            "\n",
            "172 . 簡稱加州，是美國西部太平洋沿岸的一個州，有一別名叫做「金州」\n",
            "A 福州\n",
            "B 南極洲\n",
            "C 加利福尼亞州\n",
            "\n",
            "\n",
            "176 . 哪個博物館又稱不列顛博物館，是一位於英國倫敦的綜合博物館，也是世界上規模最大、最著名的博物館之一，著名的收藏品包括波特蘭花瓶，埃及羅塞塔石碑，康侯簋，摩艾石像等等\n",
            "A 故宮博物院\n",
            "B 台中科博館\n",
            "C 大英博物館\n",
            "\n",
            "\n",
            "183 . 西非國家，位於非洲的幾內亞灣西岸頂點，鄰國包括西邊的貝南，北邊的尼日，東北方與查德接壤一小段國界，正東則是喀麥隆。是全非洲人口最多的國家，首都原本為西南沿海的海港城市拉哥斯，1991年12月遷都至地理位置位居全國國土正中央的阿布札。\n",
            "A 瑞士\n",
            "B 奈及利亞\n",
            "C 奧地利\n",
            "\n",
            "\n",
            "185 . 是美國加利福尼亞州北部的一座都市，以其涼爽的夏季、多霧、綿延的丘陵地形、混合的建築風格，和金門大橋、纜車、惡魔島監獄及中國城等景點聞名。此外也是五大主要銀行和許多大型公司、機構的總部所在，包括GAP、太平洋瓦電公司、Yelp、Pinterest、Twitter、優步、Mozilla和Craigslist等。\n",
            "A 馬尼拉\n",
            "B 首爾\n",
            "C 舊金山\n",
            "\n",
            "\n"
          ],
          "name": "stdout"
        }
      ]
    },
    {
      "cell_type": "markdown",
      "metadata": {
        "id": "Rz7TCR3uRvx3",
        "colab_type": "text"
      },
      "source": [
        "##對答案"
      ]
    },
    {
      "cell_type": "code",
      "metadata": {
        "id": "rX0sO98uRyw-",
        "colab_type": "code",
        "colab": {}
      },
      "source": [
        "import ijson\n",
        "f = open(\"Final_Questions.json\",\"r\",encoding='UTF-8')\n",
        "objects = ijson.items(f, 'item')\n",
        "i=1\n",
        "true_ans=[]\n",
        "for article in list(objects)[0:]:\n",
        "  true_ans.append(article[\"Answer : \"])\n"
      ],
      "execution_count": 0,
      "outputs": []
    },
    {
      "cell_type": "markdown",
      "metadata": {
        "id": "2DpG03p2Vq71",
        "colab_type": "text"
      },
      "source": [
        "詞頻的分數"
      ]
    },
    {
      "cell_type": "code",
      "metadata": {
        "id": "FZJU7Bk4U0LW",
        "colab_type": "code",
        "outputId": "389749b6-09d1-4871-ee51-4ef83e98a34d",
        "colab": {
          "base_uri": "https://localhost:8080/",
          "height": 1000
        }
      },
      "source": [
        "\n",
        "f_s=0\n",
        "i=0\n",
        "for fans in list(f_ans):\n",
        "  if fans == true_ans[i]:\n",
        "    f_s+=1\n",
        "  else:\n",
        "    print(i+1,\".\",\"true_ans=\",true_ans[i],\"f_ans=\",fans)\n",
        "  i+=1\n",
        "print(\"f_sore=\",f_s)"
      ],
      "execution_count": 0,
      "outputs": [
        {
          "output_type": "stream",
          "text": [
            "6 . true_ans= A f_ans= B\n",
            "7 . true_ans= A f_ans= C\n",
            "8 . true_ans= C f_ans= A\n",
            "10 . true_ans= B f_ans= A\n",
            "12 . true_ans= C f_ans= B\n",
            "13 . true_ans= C f_ans= B\n",
            "24 . true_ans= A f_ans= B\n",
            "26 . true_ans= C f_ans= A\n",
            "30 . true_ans= B f_ans= A\n",
            "32 . true_ans= A f_ans= B\n",
            "34 . true_ans= C f_ans= B\n",
            "36 . true_ans= B f_ans= A\n",
            "37 . true_ans= A f_ans= B\n",
            "38 . true_ans= C f_ans= B\n",
            "40 . true_ans= A f_ans= C\n",
            "41 . true_ans= B f_ans= C\n",
            "42 . true_ans= C f_ans= B\n",
            "44 . true_ans= B f_ans= C\n",
            "47 . true_ans= A f_ans= C\n",
            "49 . true_ans= A f_ans= B\n",
            "50 . true_ans= C f_ans= B\n",
            "53 . true_ans= B f_ans= C\n",
            "54 . true_ans= C f_ans= B\n",
            "55 . true_ans= C f_ans= A\n",
            "57 . true_ans= B f_ans= C\n",
            "58 . true_ans= B f_ans= A\n",
            "60 . true_ans= B f_ans= C\n",
            "63 . true_ans= B f_ans= C\n",
            "66 . true_ans= C f_ans= A\n",
            "67 . true_ans= B f_ans= C\n",
            "69 . true_ans= C f_ans= B\n",
            "71 . true_ans= B f_ans= C\n",
            "72 . true_ans= C f_ans= B\n",
            "74 . true_ans= C f_ans= B\n",
            "76 . true_ans= B f_ans= A\n",
            "78 . true_ans= A f_ans= C\n",
            "80 . true_ans= C f_ans= A\n",
            "81 . true_ans= A f_ans= B\n",
            "87 . true_ans= B f_ans= A\n",
            "93 . true_ans= A f_ans= C\n",
            "96 . true_ans= A f_ans= B\n",
            "99 . true_ans= B f_ans= C\n",
            "100 . true_ans= C f_ans= A\n",
            "103 . true_ans= B f_ans= A\n",
            "104 . true_ans= B f_ans= A\n",
            "106 . true_ans= A f_ans= C\n",
            "108 . true_ans= B f_ans= A\n",
            "109 . true_ans= B f_ans= A\n",
            "111 . true_ans= C f_ans= A\n",
            "113 . true_ans= B f_ans= A\n",
            "117 . true_ans= A f_ans= C\n",
            "123 . true_ans= A f_ans= B\n",
            "126 . true_ans= A f_ans= C\n",
            "128 . true_ans= C f_ans= A\n",
            "129 . true_ans= B f_ans= A\n",
            "131 . true_ans= A f_ans= C\n",
            "133 . true_ans= B f_ans= A\n",
            "134 . true_ans= C f_ans= A\n",
            "135 . true_ans= C f_ans= A\n",
            "137 . true_ans= A f_ans= C\n",
            "138 . true_ans= B f_ans= A\n",
            "139 . true_ans= C f_ans= A\n",
            "140 . true_ans=  f_ans= A\n",
            "142 . true_ans= C f_ans= A\n",
            "145 . true_ans= B f_ans= A\n",
            "149 . true_ans= A f_ans= B\n",
            "151 . true_ans= A f_ans= B\n",
            "153 . true_ans= B f_ans= A\n",
            "154 . true_ans= A f_ans= C\n",
            "157 . true_ans= C f_ans= A\n",
            "158 . true_ans= B f_ans= C\n",
            "161 . true_ans= A f_ans= B\n",
            "162 . true_ans= B f_ans= C\n",
            "164 . true_ans= C f_ans= A\n",
            "165 . true_ans= A f_ans= C\n",
            "170 . true_ans= A f_ans= C\n",
            "171 . true_ans= C f_ans= B\n",
            "172 . true_ans= C f_ans= B\n",
            "173 . true_ans= A f_ans= B\n",
            "174 . true_ans= B f_ans= C\n",
            "176 . true_ans= C f_ans= A\n",
            "181 . true_ans= A f_ans= C\n",
            "183 . true_ans= B f_ans= C\n",
            "185 . true_ans= C f_ans= B\n",
            "187 . true_ans= B f_ans= A\n",
            "188 . true_ans= A f_ans= B\n",
            "190 . true_ans= B f_ans= A\n",
            "191 . true_ans= B f_ans= C\n",
            "196 . true_ans= B f_ans= A\n",
            "199 . true_ans= B f_ans= C\n",
            "f_sore= 110\n"
          ],
          "name": "stdout"
        }
      ]
    },
    {
      "cell_type": "markdown",
      "metadata": {
        "id": "sqILJFNSVvrG",
        "colab_type": "text"
      },
      "source": [
        "tf-idf的分數"
      ]
    },
    {
      "cell_type": "code",
      "metadata": {
        "id": "WP0K0AZQTJL2",
        "colab_type": "code",
        "outputId": "7f653e54-93f8-4e5b-bde6-6ca0ac1b8567",
        "colab": {
          "base_uri": "https://localhost:8080/",
          "height": 1000
        }
      },
      "source": [
        "\n",
        "tf_idf_s=0\n",
        "i=0\n",
        "for ifdans in list(tf_idf_ans):\n",
        "  if ifdans == true_ans[i]:\n",
        "    tf_idf_s+=1\n",
        "  else:\n",
        "    print(i+1,\".\",\"true_ans=\",true_ans[i],\"ifdans=\",ifdans)\n",
        "  i+=1\n",
        "print(\"tf_idf_s=\",tf_idf_s)"
      ],
      "execution_count": 0,
      "outputs": [
        {
          "output_type": "stream",
          "text": [
            "7 . true_ans= A ifdans= C\n",
            "8 . true_ans= C ifdans= A\n",
            "10 . true_ans= B ifdans= A\n",
            "12 . true_ans= C ifdans= B\n",
            "13 . true_ans= C ifdans= B\n",
            "30 . true_ans= B ifdans= A\n",
            "32 . true_ans= A ifdans= B\n",
            "34 . true_ans= C ifdans= B\n",
            "35 . true_ans= A ifdans= B\n",
            "36 . true_ans= B ifdans= A\n",
            "37 . true_ans= A ifdans= C\n",
            "41 . true_ans= B ifdans= C\n",
            "42 . true_ans= C ifdans= B\n",
            "44 . true_ans= B ifdans= C\n",
            "47 . true_ans= A ifdans= C\n",
            "49 . true_ans= A ifdans= B\n",
            "50 . true_ans= C ifdans= A\n",
            "53 . true_ans= B ifdans= C\n",
            "54 . true_ans= C ifdans= B\n",
            "55 . true_ans= C ifdans= A\n",
            "57 . true_ans= B ifdans= C\n",
            "58 . true_ans= B ifdans= A\n",
            "60 . true_ans= B ifdans= C\n",
            "63 . true_ans= B ifdans= C\n",
            "66 . true_ans= C ifdans= A\n",
            "67 . true_ans= B ifdans= C\n",
            "69 . true_ans= C ifdans= B\n",
            "71 . true_ans= B ifdans= C\n",
            "72 . true_ans= C ifdans= B\n",
            "73 . true_ans= B ifdans= A\n",
            "74 . true_ans= C ifdans= A\n",
            "76 . true_ans= B ifdans= A\n",
            "78 . true_ans= A ifdans= C\n",
            "86 . true_ans= B ifdans= A\n",
            "93 . true_ans= A ifdans= C\n",
            "96 . true_ans= A ifdans= B\n",
            "99 . true_ans= B ifdans= C\n",
            "100 . true_ans= C ifdans= A\n",
            "104 . true_ans= B ifdans= A\n",
            "106 . true_ans= A ifdans= C\n",
            "108 . true_ans= B ifdans= A\n",
            "109 . true_ans= B ifdans= A\n",
            "111 . true_ans= C ifdans= A\n",
            "113 . true_ans= B ifdans= A\n",
            "117 . true_ans= A ifdans= C\n",
            "123 . true_ans= A ifdans= B\n",
            "126 . true_ans= A ifdans= C\n",
            "128 . true_ans= C ifdans= A\n",
            "129 . true_ans= B ifdans= A\n",
            "131 . true_ans= A ifdans= C\n",
            "133 . true_ans= B ifdans= A\n",
            "135 . true_ans= C ifdans= A\n",
            "137 . true_ans= A ifdans= C\n",
            "138 . true_ans= B ifdans= A\n",
            "140 . true_ans=  ifdans= A\n",
            "142 . true_ans= C ifdans= B\n",
            "145 . true_ans= B ifdans= A\n",
            "149 . true_ans= A ifdans= C\n",
            "154 . true_ans= A ifdans= B\n",
            "157 . true_ans= C ifdans= A\n",
            "158 . true_ans= B ifdans= C\n",
            "161 . true_ans= A ifdans= B\n",
            "162 . true_ans= B ifdans= C\n",
            "164 . true_ans= C ifdans= A\n",
            "170 . true_ans= A ifdans= C\n",
            "171 . true_ans= C ifdans= B\n",
            "173 . true_ans= A ifdans= B\n",
            "174 . true_ans= B ifdans= C\n",
            "181 . true_ans= A ifdans= C\n",
            "183 . true_ans= B ifdans= A\n",
            "187 . true_ans= B ifdans= A\n",
            "188 . true_ans= A ifdans= B\n",
            "190 . true_ans= B ifdans= A\n",
            "191 . true_ans= B ifdans= C\n",
            "196 . true_ans= B ifdans= A\n",
            "199 . true_ans= B ifdans= C\n",
            "tf_idf_s= 124\n"
          ],
          "name": "stdout"
        }
      ]
    }
  ]
}